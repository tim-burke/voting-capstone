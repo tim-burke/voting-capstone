{
 "cells": [
  {
   "cell_type": "markdown",
   "metadata": {
    "toc": true
   },
   "source": [
    "<h1>Table of Contents<span class=\"tocSkip\"></span></h1>\n",
    "<div class=\"toc\"><ul class=\"toc-item\"><li><span><a href=\"#Statsmodels\" data-toc-modified-id=\"Statsmodels-1\">Statsmodels</a></span><ul class=\"toc-item\"><li><ul class=\"toc-item\"><li><span><a href=\"#Just-poll_changed\" data-toc-modified-id=\"Just-poll_changed-1.0.1\">Just poll_changed</a></span><ul class=\"toc-item\"><li><span><a href=\"#0.3-miles\" data-toc-modified-id=\"0.3-miles-1.0.1.1\">0.3 miles</a></span></li></ul></li><li><span><a href=\"#With-poll_changed-and-farther/closer\" data-toc-modified-id=\"With-poll_changed-and-farther/closer-1.0.2\">With poll_changed and farther/closer</a></span><ul class=\"toc-item\"><li><span><a href=\"#0.3-miles\" data-toc-modified-id=\"0.3-miles-1.0.2.1\">0.3 miles</a></span></li></ul></li></ul></li><li><span><a href=\"#Donut-approach\" data-toc-modified-id=\"Donut-approach-1.1\">Donut approach</a></span><ul class=\"toc-item\"><li><span><a href=\"#Just-poll_changed\" data-toc-modified-id=\"Just-poll_changed-1.1.1\">Just poll_changed</a></span></li><li><span><a href=\"#Poll_changed-and-farther/closer\" data-toc-modified-id=\"Poll_changed-and-farther/closer-1.1.2\">Poll_changed and farther/closer</a></span></li></ul></li><li><span><a href=\"#Absentee\" data-toc-modified-id=\"Absentee-1.2\">Absentee</a></span></li><li><span><a href=\"#In-person-voting-as-outcome\" data-toc-modified-id=\"In-person-voting-as-outcome-1.3\">In-person voting as outcome</a></span><ul class=\"toc-item\"><li><span><a href=\"#Just-poll_changed\" data-toc-modified-id=\"Just-poll_changed-1.3.1\">Just poll_changed</a></span></li><li><span><a href=\"#Poll_changed-and-farther/closer\" data-toc-modified-id=\"Poll_changed-and-farther/closer-1.3.2\">Poll_changed and farther/closer</a></span></li></ul></li><li><span><a href=\"#Race-analysis\" data-toc-modified-id=\"Race-analysis-1.4\">Race analysis</a></span><ul class=\"toc-item\"><li><span><a href=\"#White-vs.-non-white-voters-(essentially-white-vs.-black-based-on-the-numbers)\" data-toc-modified-id=\"White-vs.-non-white-voters-(essentially-white-vs.-black-based-on-the-numbers)-1.4.1\">White vs. non-white voters (essentially white vs. black based on the numbers)</a></span><ul class=\"toc-item\"><li><span><a href=\"#High-level--descriptives\" data-toc-modified-id=\"High-level--descriptives-1.4.1.1\">High-level  descriptives</a></span></li><li><span><a href=\"#HTE\" data-toc-modified-id=\"HTE-1.4.1.2\">HTE</a></span></li></ul></li><li><span><a href=\"#Donut-approach-with-minorities\" data-toc-modified-id=\"Donut-approach-with-minorities-1.4.2\">Donut approach with minorities</a></span><ul class=\"toc-item\"><li><span><a href=\"#High-level-descriptives\" data-toc-modified-id=\"High-level-descriptives-1.4.2.1\">High-level descriptives</a></span></li></ul></li></ul></li><li><span><a href=\"#Checking-2012-data\" data-toc-modified-id=\"Checking-2012-data-1.5\">Checking 2012 data</a></span></li></ul></li></ul></div>"
   ]
  },
  {
   "cell_type": "markdown",
   "metadata": {},
   "source": [
    "# Statsmodels"
   ]
  },
  {
   "cell_type": "code",
   "execution_count": 1,
   "metadata": {
    "collapsed": true
   },
   "outputs": [],
   "source": [
    "%matplotlib inline\n",
    "import pandas as pd \n",
    "import numpy as np\n",
    "import seaborn as sns\n",
    "import statsmodels as sm\n",
    "import statsmodels.formula.api as smf\n",
    "import statsmodels.regression.linear_model as smlm"
   ]
  },
  {
   "cell_type": "code",
   "execution_count": 2,
   "metadata": {
    "collapsed": true
   },
   "outputs": [],
   "source": [
    "df = pd.read_csv('/Users/jakemainwaring/Desktop/data_for_viz/final_results.tsv', sep='\\t')"
   ]
  },
  {
   "cell_type": "code",
   "execution_count": 3,
   "metadata": {
    "scrolled": true
   },
   "outputs": [
    {
     "name": "stdout",
     "output_type": "stream",
     "text": [
      "420797\n",
      "124533\n",
      "27020\n",
      "9725\n"
     ]
    }
   ],
   "source": [
    "print(len(df))\n",
    "print(len(df['ncid'].unique()))\n",
    "print(len(df[df['poll_changed']==1]))\n",
    "print(len(df[np.abs(df['delta_dist'])>1]))"
   ]
  },
  {
   "cell_type": "code",
   "execution_count": 4,
   "metadata": {},
   "outputs": [
    {
     "data": {
      "text/html": [
       "<div>\n",
       "<style scoped>\n",
       "    .dataframe tbody tr th:only-of-type {\n",
       "        vertical-align: middle;\n",
       "    }\n",
       "\n",
       "    .dataframe tbody tr th {\n",
       "        vertical-align: top;\n",
       "    }\n",
       "\n",
       "    .dataframe thead th {\n",
       "        text-align: right;\n",
       "    }\n",
       "</style>\n",
       "<table border=\"1\" class=\"dataframe\">\n",
       "  <thead>\n",
       "    <tr style=\"text-align: right;\">\n",
       "      <th></th>\n",
       "      <th>ncid</th>\n",
       "      <th>poll_changed</th>\n",
       "      <th>voted</th>\n",
       "      <th>delta_dist</th>\n",
       "      <th>voting_method</th>\n",
       "      <th>block</th>\n",
       "    </tr>\n",
       "  </thead>\n",
       "  <tbody>\n",
       "    <tr>\n",
       "      <th>0</th>\n",
       "      <td>BH18756</td>\n",
       "      <td>0.0</td>\n",
       "      <td>1.0</td>\n",
       "      <td>0.0</td>\n",
       "      <td>ABSENTEE ONESTOP</td>\n",
       "      <td>0</td>\n",
       "    </tr>\n",
       "    <tr>\n",
       "      <th>1</th>\n",
       "      <td>BH18762</td>\n",
       "      <td>0.0</td>\n",
       "      <td>1.0</td>\n",
       "      <td>0.0</td>\n",
       "      <td>ABSENTEE ONESTOP</td>\n",
       "      <td>0</td>\n",
       "    </tr>\n",
       "    <tr>\n",
       "      <th>2</th>\n",
       "      <td>BH79589</td>\n",
       "      <td>0.0</td>\n",
       "      <td>1.0</td>\n",
       "      <td>0.0</td>\n",
       "      <td>ABSENTEE ONESTOP</td>\n",
       "      <td>0</td>\n",
       "    </tr>\n",
       "  </tbody>\n",
       "</table>\n",
       "</div>"
      ],
      "text/plain": [
       "      ncid  poll_changed  voted  delta_dist     voting_method  block\n",
       "0  BH18756           0.0    1.0         0.0  ABSENTEE ONESTOP      0\n",
       "1  BH18762           0.0    1.0         0.0  ABSENTEE ONESTOP      0\n",
       "2  BH79589           0.0    1.0         0.0  ABSENTEE ONESTOP      0"
      ]
     },
     "execution_count": 4,
     "metadata": {},
     "output_type": "execute_result"
    }
   ],
   "source": [
    "df.head(3)"
   ]
  },
  {
   "cell_type": "code",
   "execution_count": 5,
   "metadata": {
    "collapsed": true
   },
   "outputs": [],
   "source": [
    "df['is_closer'] = np.where(df['delta_dist'] < 0, 1, 0) \n",
    "df['is_farther'] = np.where(df['delta_dist'] > 0, 1, 0) "
   ]
  },
  {
   "cell_type": "markdown",
   "metadata": {},
   "source": [
    "### Just poll_changed"
   ]
  },
  {
   "cell_type": "markdown",
   "metadata": {},
   "source": [
    "#### 0.3 miles"
   ]
  },
  {
   "cell_type": "code",
   "execution_count": 6,
   "metadata": {},
   "outputs": [
    {
     "name": "stdout",
     "output_type": "stream",
     "text": [
      "                            OLS Regression Results                            \n",
      "==============================================================================\n",
      "Dep. Variable:                  voted   R-squared:                       0.000\n",
      "Model:                            OLS   Adj. R-squared:                  0.000\n",
      "Method:                 Least Squares   F-statistic:                     52.65\n",
      "Date:                Tue, 14 May 2019   Prob (F-statistic):           4.09e-13\n",
      "Time:                        11:22:02   Log-Likelihood:            -1.7323e+05\n",
      "No. Observations:              420797   AIC:                         3.465e+05\n",
      "Df Residuals:                  420795   BIC:                         3.465e+05\n",
      "Df Model:                           1                                         \n",
      "Covariance Type:              cluster                                         \n",
      "================================================================================\n",
      "                   coef    std err          z      P>|z|      [0.025      0.975]\n",
      "--------------------------------------------------------------------------------\n",
      "Intercept        0.8426      0.001    723.122      0.000       0.840       0.845\n",
      "poll_changed    -0.0180      0.002     -7.256      0.000      -0.023      -0.013\n",
      "==============================================================================\n",
      "Omnibus:                   128487.470   Durbin-Watson:                   1.705\n",
      "Prob(Omnibus):                  0.000   Jarque-Bera (JB):           284332.234\n",
      "Skew:                          -1.869   Prob(JB):                         0.00\n",
      "Kurtosis:                       4.496   Cond. No.                         4.10\n",
      "==============================================================================\n",
      "\n",
      "Warnings:\n",
      "[1] Standard Errors are robust tocluster correlation (cluster)\n"
     ]
    }
   ],
   "source": [
    "mod = smf.ols('voted ~ poll_changed', data=df)\n",
    "res = mod.fit(cov_type='cluster',  cov_kwds={'groups': df['block']})\n",
    "print(res.summary())"
   ]
  },
  {
   "cell_type": "markdown",
   "metadata": {},
   "source": [
    "### With poll_changed and farther/closer"
   ]
  },
  {
   "cell_type": "markdown",
   "metadata": {},
   "source": [
    "#### 0.3 miles"
   ]
  },
  {
   "cell_type": "code",
   "execution_count": 7,
   "metadata": {},
   "outputs": [
    {
     "name": "stdout",
     "output_type": "stream",
     "text": [
      "                            OLS Regression Results                            \n",
      "==============================================================================\n",
      "Dep. Variable:                  voted   R-squared:                       0.000\n",
      "Model:                            OLS   Adj. R-squared:                  0.000\n",
      "Method:                 Least Squares   F-statistic:                     31.28\n",
      "Date:                Tue, 14 May 2019   Prob (F-statistic):           2.70e-14\n",
      "Time:                        11:22:02   Log-Likelihood:            -1.7322e+05\n",
      "No. Observations:              420797   AIC:                         3.464e+05\n",
      "Df Residuals:                  420794   BIC:                         3.465e+05\n",
      "Df Model:                           2                                         \n",
      "Covariance Type:              cluster                                         \n",
      "==============================================================================\n",
      "                 coef    std err          z      P>|z|      [0.025      0.975]\n",
      "------------------------------------------------------------------------------\n",
      "Intercept      0.8426      0.001    723.121      0.000       0.840       0.845\n",
      "is_closer     -0.0103      0.003     -2.962      0.003      -0.017      -0.003\n",
      "is_farther    -0.0248      0.003     -7.525      0.000      -0.031      -0.018\n",
      "==============================================================================\n",
      "Omnibus:                   128482.455   Durbin-Watson:                   1.705\n",
      "Prob(Omnibus):                  0.000   Jarque-Bera (JB):           284313.509\n",
      "Skew:                          -1.869   Prob(JB):                         0.00\n",
      "Kurtosis:                       4.496   Cond. No.                         5.87\n",
      "==============================================================================\n",
      "\n",
      "Warnings:\n",
      "[1] Standard Errors are robust tocluster correlation (cluster)\n"
     ]
    }
   ],
   "source": [
    "mod = smf.ols('voted ~ is_closer + is_farther', data=df)\n",
    "res = mod.fit(cov_type='cluster',  cov_kwds={'groups': df['block']})\n",
    "print(res.summary())"
   ]
  },
  {
   "cell_type": "markdown",
   "metadata": {},
   "source": [
    "## Donut approach"
   ]
  },
  {
   "cell_type": "markdown",
   "metadata": {},
   "source": [
    "This only looks at people whose polling place changed by >1 mile in either direction"
   ]
  },
  {
   "cell_type": "code",
   "execution_count": 8,
   "metadata": {
    "collapsed": true
   },
   "outputs": [],
   "source": [
    "# Filtering down\n",
    "unique_blocks = df[np.abs(df['delta_dist']) > 1]['block'].unique()\n",
    "donut_df = df[df['block'].isin(unique_blocks)]"
   ]
  },
  {
   "cell_type": "code",
   "execution_count": 9,
   "metadata": {},
   "outputs": [
    {
     "name": "stderr",
     "output_type": "stream",
     "text": [
      "/Users/jakemainwaring/anaconda/lib/python3.6/site-packages/ipykernel_launcher.py:1: SettingWithCopyWarning: \n",
      "A value is trying to be set on a copy of a slice from a DataFrame.\n",
      "Try using .loc[row_indexer,col_indexer] = value instead\n",
      "\n",
      "See the caveats in the documentation: http://pandas.pydata.org/pandas-docs/stable/indexing.html#indexing-view-versus-copy\n",
      "  \"\"\"Entry point for launching an IPython kernel.\n",
      "/Users/jakemainwaring/anaconda/lib/python3.6/site-packages/ipykernel_launcher.py:2: SettingWithCopyWarning: \n",
      "A value is trying to be set on a copy of a slice from a DataFrame.\n",
      "Try using .loc[row_indexer,col_indexer] = value instead\n",
      "\n",
      "See the caveats in the documentation: http://pandas.pydata.org/pandas-docs/stable/indexing.html#indexing-view-versus-copy\n",
      "  \n"
     ]
    }
   ],
   "source": [
    "donut_df['is_closer'] = np.where(donut_df['delta_dist'] < 0, 1, 0) \n",
    "donut_df['is_farther'] = np.where(donut_df['delta_dist'] > 0, 1, 0) "
   ]
  },
  {
   "cell_type": "markdown",
   "metadata": {},
   "source": [
    "### Just poll_changed"
   ]
  },
  {
   "cell_type": "code",
   "execution_count": 10,
   "metadata": {},
   "outputs": [
    {
     "name": "stdout",
     "output_type": "stream",
     "text": [
      "                            OLS Regression Results                            \n",
      "==============================================================================\n",
      "Dep. Variable:                  voted   R-squared:                       0.000\n",
      "Model:                            OLS   Adj. R-squared:                  0.000\n",
      "Method:                 Least Squares   F-statistic:                     25.69\n",
      "Date:                Tue, 14 May 2019   Prob (F-statistic):           4.07e-07\n",
      "Time:                        11:22:03   Log-Likelihood:                -66099.\n",
      "No. Observations:              170740   AIC:                         1.322e+05\n",
      "Df Residuals:                  170738   BIC:                         1.322e+05\n",
      "Df Model:                           1                                         \n",
      "Covariance Type:              cluster                                         \n",
      "================================================================================\n",
      "                   coef    std err          z      P>|z|      [0.025      0.975]\n",
      "--------------------------------------------------------------------------------\n",
      "Intercept        0.8518      0.001    655.750      0.000       0.849       0.854\n",
      "poll_changed    -0.0200      0.004     -5.069      0.000      -0.028      -0.012\n",
      "==============================================================================\n",
      "Omnibus:                    56696.989   Durbin-Watson:                   1.801\n",
      "Prob(Omnibus):                  0.000   Jarque-Bera (JB):           135104.254\n",
      "Skew:                          -1.968   Prob(JB):                         0.00\n",
      "Kurtosis:                       4.873   Cond. No.                         4.33\n",
      "==============================================================================\n",
      "\n",
      "Warnings:\n",
      "[1] Standard Errors are robust tocluster correlation (cluster)\n"
     ]
    }
   ],
   "source": [
    "mod = smf.ols('voted ~ poll_changed', data=donut_df)\n",
    "res = mod.fit(cov_type='cluster',  cov_kwds={'groups': donut_df['block']})\n",
    "print(res.summary())"
   ]
  },
  {
   "cell_type": "markdown",
   "metadata": {},
   "source": [
    "### Poll_changed and farther/closer"
   ]
  },
  {
   "cell_type": "code",
   "execution_count": 11,
   "metadata": {},
   "outputs": [
    {
     "name": "stdout",
     "output_type": "stream",
     "text": [
      "                            OLS Regression Results                            \n",
      "==============================================================================\n",
      "Dep. Variable:                  voted   R-squared:                       0.000\n",
      "Model:                            OLS   Adj. R-squared:                  0.000\n",
      "Method:                 Least Squares   F-statistic:                     21.17\n",
      "Date:                Tue, 14 May 2019   Prob (F-statistic):           6.70e-10\n",
      "Time:                        11:22:03   Log-Likelihood:                -66088.\n",
      "No. Observations:              170740   AIC:                         1.322e+05\n",
      "Df Residuals:                  170737   BIC:                         1.322e+05\n",
      "Df Model:                           2                                         \n",
      "Covariance Type:              cluster                                         \n",
      "==============================================================================\n",
      "                 coef    std err          z      P>|z|      [0.025      0.975]\n",
      "------------------------------------------------------------------------------\n",
      "Intercept      0.8518      0.001    655.748      0.000       0.849       0.854\n",
      "is_closer   5.223e-05      0.006      0.009      0.993      -0.011       0.011\n",
      "is_farther    -0.0339      0.005     -6.502      0.000      -0.044      -0.024\n",
      "==============================================================================\n",
      "Omnibus:                    56686.213   Durbin-Watson:                   1.801\n",
      "Prob(Omnibus):                  0.000   Jarque-Bera (JB):           135059.831\n",
      "Skew:                          -1.967   Prob(JB):                         0.00\n",
      "Kurtosis:                       4.872   Cond. No.                         6.64\n",
      "==============================================================================\n",
      "\n",
      "Warnings:\n",
      "[1] Standard Errors are robust tocluster correlation (cluster)\n"
     ]
    }
   ],
   "source": [
    "mod = smf.ols('voted ~ is_closer + is_farther', data=donut_df)\n",
    "res = mod.fit(cov_type='cluster',  cov_kwds={'groups': donut_df['block']})\n",
    "print(res.summary())"
   ]
  },
  {
   "cell_type": "markdown",
   "metadata": {},
   "source": [
    "## Absentee"
   ]
  },
  {
   "cell_type": "markdown",
   "metadata": {},
   "source": [
    "Seeing if having one's polling place moved can predict whether someone will predict absentee"
   ]
  },
  {
   "cell_type": "code",
   "execution_count": 12,
   "metadata": {
    "collapsed": true
   },
   "outputs": [],
   "source": [
    "def is_absentee(vm):\n",
    "    '''Takes voting method, recodes to 1 or 0'''\n",
    "    if vm is np.nan:\n",
    "        return 0\n",
    "    elif vm in {'ABSENTEE ONESTOP', 'ABSENTEE BY MAIL', 'ABSENTEE CURBSIDE', 'ABSENTEE'}:\n",
    "        return 1\n",
    "    else: \n",
    "        return 0"
   ]
  },
  {
   "cell_type": "code",
   "execution_count": 13,
   "metadata": {
    "collapsed": true
   },
   "outputs": [],
   "source": [
    "df['is_absentee'] = df['voting_method'].apply(is_absentee)"
   ]
  },
  {
   "cell_type": "code",
   "execution_count": 14,
   "metadata": {
    "scrolled": false
   },
   "outputs": [
    {
     "name": "stdout",
     "output_type": "stream",
     "text": [
      "                            OLS Regression Results                            \n",
      "==============================================================================\n",
      "Dep. Variable:            is_absentee   R-squared:                       0.000\n",
      "Model:                            OLS   Adj. R-squared:                 -0.000\n",
      "Method:                 Least Squares   F-statistic:                   0.03597\n",
      "Date:                Tue, 14 May 2019   Prob (F-statistic):              0.850\n",
      "Time:                        11:22:03   Log-Likelihood:            -3.0085e+05\n",
      "No. Observations:              420797   AIC:                         6.017e+05\n",
      "Df Residuals:                  420795   BIC:                         6.017e+05\n",
      "Df Model:                           1                                         \n",
      "Covariance Type:              cluster                                         \n",
      "================================================================================\n",
      "                   coef    std err          z      P>|z|      [0.025      0.975]\n",
      "--------------------------------------------------------------------------------\n",
      "Intercept        0.5732      0.001    414.008      0.000       0.570       0.576\n",
      "poll_changed     0.0006      0.003      0.190      0.850      -0.006       0.007\n",
      "==============================================================================\n",
      "Omnibus:                     5891.718   Durbin-Watson:                   1.570\n",
      "Prob(Omnibus):                  0.000   Jarque-Bera (JB):            70267.333\n",
      "Skew:                          -0.296   Prob(JB):                         0.00\n",
      "Kurtosis:                       1.088   Cond. No.                         4.10\n",
      "==============================================================================\n",
      "\n",
      "Warnings:\n",
      "[1] Standard Errors are robust tocluster correlation (cluster)\n"
     ]
    }
   ],
   "source": [
    "mod = smf.ols('is_absentee ~ poll_changed', data=df)\n",
    "res = mod.fit(cov_type='cluster',  cov_kwds={'groups': df['block']})\n",
    "print(res.summary())"
   ]
  },
  {
   "cell_type": "code",
   "execution_count": 15,
   "metadata": {},
   "outputs": [
    {
     "name": "stdout",
     "output_type": "stream",
     "text": [
      "                            OLS Regression Results                            \n",
      "==============================================================================\n",
      "Dep. Variable:            is_absentee   R-squared:                       0.000\n",
      "Model:                            OLS   Adj. R-squared:                 -0.000\n",
      "Method:                 Least Squares   F-statistic:                    0.1787\n",
      "Date:                Tue, 14 May 2019   Prob (F-statistic):              0.836\n",
      "Time:                        11:22:03   Log-Likelihood:            -3.0085e+05\n",
      "No. Observations:              420797   AIC:                         6.017e+05\n",
      "Df Residuals:                  420794   BIC:                         6.017e+05\n",
      "Df Model:                           2                                         \n",
      "Covariance Type:              cluster                                         \n",
      "==============================================================================\n",
      "                 coef    std err          z      P>|z|      [0.025      0.975]\n",
      "------------------------------------------------------------------------------\n",
      "Intercept      0.5732      0.001    414.007      0.000       0.570       0.576\n",
      "is_closer      0.0024      0.005      0.532      0.595      -0.006       0.011\n",
      "is_farther    -0.0010      0.004     -0.239      0.811      -0.009       0.007\n",
      "==============================================================================\n",
      "Omnibus:                     5891.705   Durbin-Watson:                   1.570\n",
      "Prob(Omnibus):                  0.000   Jarque-Bera (JB):            70267.121\n",
      "Skew:                          -0.296   Prob(JB):                         0.00\n",
      "Kurtosis:                       1.088   Cond. No.                         5.87\n",
      "==============================================================================\n",
      "\n",
      "Warnings:\n",
      "[1] Standard Errors are robust tocluster correlation (cluster)\n"
     ]
    }
   ],
   "source": [
    "mod = smf.ols('is_absentee ~ is_closer + is_farther', data=df)\n",
    "res = mod.fit(cov_type='cluster',  cov_kwds={'groups': df['block']})\n",
    "print(res.summary())"
   ]
  },
  {
   "cell_type": "markdown",
   "metadata": {},
   "source": [
    "## In-person voting as outcome"
   ]
  },
  {
   "cell_type": "code",
   "execution_count": 16,
   "metadata": {
    "collapsed": true
   },
   "outputs": [],
   "source": [
    "def in_person_vote(vm):\n",
    "    '''Takes voting method, recodes to 1 or 0'''\n",
    "    if vm is np.nan:\n",
    "        return 0\n",
    "    elif vm in {'ABSENTEE ONESTOP', 'ABSENTEE BY MAIL', 'ABSENTEE CURBSIDE', 'ABSENTEE'}:\n",
    "        return 0\n",
    "    else: \n",
    "        return 1"
   ]
  },
  {
   "cell_type": "code",
   "execution_count": 17,
   "metadata": {
    "collapsed": true
   },
   "outputs": [],
   "source": [
    "df['in_person_vote'] = df['voting_method'].apply(in_person_vote)"
   ]
  },
  {
   "cell_type": "markdown",
   "metadata": {},
   "source": [
    "### Just poll_changed"
   ]
  },
  {
   "cell_type": "code",
   "execution_count": 18,
   "metadata": {},
   "outputs": [
    {
     "name": "stdout",
     "output_type": "stream",
     "text": [
      "                            OLS Regression Results                            \n",
      "==============================================================================\n",
      "Dep. Variable:         in_person_vote   R-squared:                       0.000\n",
      "Model:                            OLS   Adj. R-squared:                  0.000\n",
      "Method:                 Least Squares   F-statistic:                     43.95\n",
      "Date:                Tue, 14 May 2019   Prob (F-statistic):           3.43e-11\n",
      "Time:                        11:22:04   Log-Likelihood:            -2.5451e+05\n",
      "No. Observations:              420797   AIC:                         5.090e+05\n",
      "Df Residuals:                  420795   BIC:                         5.091e+05\n",
      "Df Model:                           1                                         \n",
      "Covariance Type:              cluster                                         \n",
      "================================================================================\n",
      "                   coef    std err          z      P>|z|      [0.025      0.975]\n",
      "--------------------------------------------------------------------------------\n",
      "Intercept        0.2695      0.001    237.163      0.000       0.267       0.272\n",
      "poll_changed    -0.0186      0.003     -6.629      0.000      -0.024      -0.013\n",
      "==============================================================================\n",
      "Omnibus:                   112785.838   Durbin-Watson:                   1.587\n",
      "Prob(Omnibus):                  0.000   Jarque-Bera (JB):            91092.632\n",
      "Skew:                           1.046   Prob(JB):                         0.00\n",
      "Kurtosis:                       2.094   Cond. No.                         4.10\n",
      "==============================================================================\n",
      "\n",
      "Warnings:\n",
      "[1] Standard Errors are robust tocluster correlation (cluster)\n"
     ]
    }
   ],
   "source": [
    "mod = smf.ols('in_person_vote ~ poll_changed', data=df)\n",
    "res = mod.fit(cov_type='cluster',  cov_kwds={'groups': df['block']})\n",
    "print(res.summary())"
   ]
  },
  {
   "cell_type": "markdown",
   "metadata": {},
   "source": [
    "### Poll_changed and farther/closer"
   ]
  },
  {
   "cell_type": "code",
   "execution_count": 19,
   "metadata": {
    "scrolled": false
   },
   "outputs": [
    {
     "name": "stdout",
     "output_type": "stream",
     "text": [
      "                            OLS Regression Results                            \n",
      "==============================================================================\n",
      "Dep. Variable:         in_person_vote   R-squared:                       0.000\n",
      "Model:                            OLS   Adj. R-squared:                  0.000\n",
      "Method:                 Least Squares   F-statistic:                     24.47\n",
      "Date:                Tue, 14 May 2019   Prob (F-statistic):           2.42e-11\n",
      "Time:                        11:22:04   Log-Likelihood:            -2.5451e+05\n",
      "No. Observations:              420797   AIC:                         5.090e+05\n",
      "Df Residuals:                  420794   BIC:                         5.091e+05\n",
      "Df Model:                           2                                         \n",
      "Covariance Type:              cluster                                         \n",
      "==============================================================================\n",
      "                 coef    std err          z      P>|z|      [0.025      0.975]\n",
      "------------------------------------------------------------------------------\n",
      "Intercept      0.2695      0.001    237.163      0.000       0.267       0.272\n",
      "is_closer     -0.0127      0.004     -3.186      0.001      -0.021      -0.005\n",
      "is_farther    -0.0238      0.004     -6.411      0.000      -0.031      -0.017\n",
      "==============================================================================\n",
      "Omnibus:                   112781.398   Durbin-Watson:                   1.587\n",
      "Prob(Omnibus):                  0.000   Jarque-Bera (JB):            91089.665\n",
      "Skew:                           1.046   Prob(JB):                         0.00\n",
      "Kurtosis:                       2.094   Cond. No.                         5.87\n",
      "==============================================================================\n",
      "\n",
      "Warnings:\n",
      "[1] Standard Errors are robust tocluster correlation (cluster)\n"
     ]
    }
   ],
   "source": [
    "mod = smf.ols('in_person_vote ~ is_closer + is_farther', data=df)\n",
    "res = mod.fit(cov_type='cluster',  cov_kwds={'groups': df['block']})\n",
    "print(res.summary())"
   ]
  },
  {
   "cell_type": "code",
   "execution_count": 20,
   "metadata": {
    "collapsed": true
   },
   "outputs": [],
   "source": [
    "regression_data = df.to_csv('regression_data')"
   ]
  },
  {
   "cell_type": "markdown",
   "metadata": {},
   "source": [
    "## Race analysis"
   ]
  },
  {
   "cell_type": "code",
   "execution_count": 21,
   "metadata": {},
   "outputs": [],
   "source": [
    "finalized_df = pd.read_csv('finalized_data.zip', sep='\\t')"
   ]
  },
  {
   "cell_type": "code",
   "execution_count": 22,
   "metadata": {
    "collapsed": true
   },
   "outputs": [],
   "source": [
    "# Filtering finalized table\n",
    "finalized_df = finalized_df[['ncid', 'race_code']]"
   ]
  },
  {
   "cell_type": "code",
   "execution_count": 23,
   "metadata": {
    "collapsed": true
   },
   "outputs": [],
   "source": [
    "# Merging with our experiment data\n",
    "merged_df = pd.merge(df, finalized_df, on='ncid', how='inner')"
   ]
  },
  {
   "cell_type": "code",
   "execution_count": 24,
   "metadata": {},
   "outputs": [],
   "source": [
    "# Adding a new column\n",
    "merged_df['is_minority'] = np.where(merged_df['race_code']=='W', 0, 1)"
   ]
  },
  {
   "cell_type": "code",
   "execution_count": 25,
   "metadata": {
    "scrolled": true
   },
   "outputs": [
    {
     "data": {
      "text/html": [
       "<div>\n",
       "<style scoped>\n",
       "    .dataframe tbody tr th:only-of-type {\n",
       "        vertical-align: middle;\n",
       "    }\n",
       "\n",
       "    .dataframe tbody tr th {\n",
       "        vertical-align: top;\n",
       "    }\n",
       "\n",
       "    .dataframe thead th {\n",
       "        text-align: right;\n",
       "    }\n",
       "</style>\n",
       "<table border=\"1\" class=\"dataframe\">\n",
       "  <thead>\n",
       "    <tr style=\"text-align: right;\">\n",
       "      <th></th>\n",
       "      <th>ncid</th>\n",
       "      <th>poll_changed</th>\n",
       "      <th>voted</th>\n",
       "      <th>delta_dist</th>\n",
       "      <th>voting_method</th>\n",
       "      <th>block</th>\n",
       "      <th>is_closer</th>\n",
       "      <th>is_farther</th>\n",
       "      <th>is_absentee</th>\n",
       "      <th>in_person_vote</th>\n",
       "      <th>race_code</th>\n",
       "      <th>is_minority</th>\n",
       "    </tr>\n",
       "  </thead>\n",
       "  <tbody>\n",
       "    <tr>\n",
       "      <th>0</th>\n",
       "      <td>BH18756</td>\n",
       "      <td>0.0</td>\n",
       "      <td>1.0</td>\n",
       "      <td>0.0</td>\n",
       "      <td>ABSENTEE ONESTOP</td>\n",
       "      <td>0</td>\n",
       "      <td>0</td>\n",
       "      <td>0</td>\n",
       "      <td>1</td>\n",
       "      <td>0</td>\n",
       "      <td>W</td>\n",
       "      <td>0</td>\n",
       "    </tr>\n",
       "    <tr>\n",
       "      <th>1</th>\n",
       "      <td>BH18756</td>\n",
       "      <td>0.0</td>\n",
       "      <td>1.0</td>\n",
       "      <td>0.0</td>\n",
       "      <td>ABSENTEE ONESTOP</td>\n",
       "      <td>1</td>\n",
       "      <td>0</td>\n",
       "      <td>0</td>\n",
       "      <td>1</td>\n",
       "      <td>0</td>\n",
       "      <td>W</td>\n",
       "      <td>0</td>\n",
       "    </tr>\n",
       "    <tr>\n",
       "      <th>2</th>\n",
       "      <td>BH18762</td>\n",
       "      <td>0.0</td>\n",
       "      <td>1.0</td>\n",
       "      <td>0.0</td>\n",
       "      <td>ABSENTEE ONESTOP</td>\n",
       "      <td>0</td>\n",
       "      <td>0</td>\n",
       "      <td>0</td>\n",
       "      <td>1</td>\n",
       "      <td>0</td>\n",
       "      <td>W</td>\n",
       "      <td>0</td>\n",
       "    </tr>\n",
       "    <tr>\n",
       "      <th>3</th>\n",
       "      <td>BH18762</td>\n",
       "      <td>0.0</td>\n",
       "      <td>1.0</td>\n",
       "      <td>0.0</td>\n",
       "      <td>ABSENTEE ONESTOP</td>\n",
       "      <td>1</td>\n",
       "      <td>0</td>\n",
       "      <td>0</td>\n",
       "      <td>1</td>\n",
       "      <td>0</td>\n",
       "      <td>W</td>\n",
       "      <td>0</td>\n",
       "    </tr>\n",
       "    <tr>\n",
       "      <th>4</th>\n",
       "      <td>BH79589</td>\n",
       "      <td>0.0</td>\n",
       "      <td>1.0</td>\n",
       "      <td>0.0</td>\n",
       "      <td>ABSENTEE ONESTOP</td>\n",
       "      <td>0</td>\n",
       "      <td>0</td>\n",
       "      <td>0</td>\n",
       "      <td>1</td>\n",
       "      <td>0</td>\n",
       "      <td>W</td>\n",
       "      <td>0</td>\n",
       "    </tr>\n",
       "  </tbody>\n",
       "</table>\n",
       "</div>"
      ],
      "text/plain": [
       "      ncid  poll_changed  voted  delta_dist     voting_method  block  \\\n",
       "0  BH18756           0.0    1.0         0.0  ABSENTEE ONESTOP      0   \n",
       "1  BH18756           0.0    1.0         0.0  ABSENTEE ONESTOP      1   \n",
       "2  BH18762           0.0    1.0         0.0  ABSENTEE ONESTOP      0   \n",
       "3  BH18762           0.0    1.0         0.0  ABSENTEE ONESTOP      1   \n",
       "4  BH79589           0.0    1.0         0.0  ABSENTEE ONESTOP      0   \n",
       "\n",
       "   is_closer  is_farther  is_absentee  in_person_vote race_code  is_minority  \n",
       "0          0           0            1               0         W            0  \n",
       "1          0           0            1               0         W            0  \n",
       "2          0           0            1               0         W            0  \n",
       "3          0           0            1               0         W            0  \n",
       "4          0           0            1               0         W            0  "
      ]
     },
     "execution_count": 25,
     "metadata": {},
     "output_type": "execute_result"
    }
   ],
   "source": [
    "merged_df.head()"
   ]
  },
  {
   "cell_type": "markdown",
   "metadata": {},
   "source": [
    "### White vs. non-white voters (essentially white vs. black based on the numbers)"
   ]
  },
  {
   "cell_type": "markdown",
   "metadata": {},
   "source": [
    "Need to get the first occurrence of every NCID so as to not double-count, etc."
   ]
  },
  {
   "cell_type": "code",
   "execution_count": 26,
   "metadata": {
    "collapsed": true
   },
   "outputs": [],
   "source": [
    "unique_ncid = merged_df.groupby('ncid').first()"
   ]
  },
  {
   "cell_type": "markdown",
   "metadata": {},
   "source": [
    "#### High-level  descriptives"
   ]
  },
  {
   "cell_type": "code",
   "execution_count": 27,
   "metadata": {},
   "outputs": [
    {
     "name": "stdout",
     "output_type": "stream",
     "text": [
      "                            OLS Regression Results                            \n",
      "==============================================================================\n",
      "Dep. Variable:             is_farther   R-squared:                       0.002\n",
      "Model:                            OLS   Adj. R-squared:                  0.002\n",
      "Method:                 Least Squares   F-statistic:                     193.0\n",
      "Date:                Tue, 14 May 2019   Prob (F-statistic):           7.66e-44\n",
      "Time:                        11:22:43   Log-Likelihood:                -34139.\n",
      "No. Observations:              124533   AIC:                         6.828e+04\n",
      "Df Residuals:                  124531   BIC:                         6.830e+04\n",
      "Df Model:                           1                                         \n",
      "Covariance Type:            nonrobust                                         \n",
      "===============================================================================\n",
      "                  coef    std err          t      P>|t|      [0.025      0.975]\n",
      "-------------------------------------------------------------------------------\n",
      "Intercept       0.1071      0.001    101.743      0.000       0.105       0.109\n",
      "is_minority     0.0284      0.002     13.892      0.000       0.024       0.032\n",
      "==============================================================================\n",
      "Omnibus:                    56072.858   Durbin-Watson:                   1.610\n",
      "Prob(Omnibus):                  0.000   Jarque-Bera (JB):           197685.689\n",
      "Skew:                           2.414   Prob(JB):                         0.00\n",
      "Kurtosis:                       6.845   Cond. No.                         2.46\n",
      "==============================================================================\n",
      "\n",
      "Warnings:\n",
      "[1] Standard Errors assume that the covariance matrix of the errors is correctly specified.\n"
     ]
    }
   ],
   "source": [
    "mod = smf.ols('is_farther ~ is_minority', data=unique_ncid)\n",
    "res = mod.fit()\n",
    "print(res.summary())"
   ]
  },
  {
   "cell_type": "code",
   "execution_count": 28,
   "metadata": {},
   "outputs": [
    {
     "name": "stdout",
     "output_type": "stream",
     "text": [
      "                            OLS Regression Results                            \n",
      "==============================================================================\n",
      "Dep. Variable:              is_closer   R-squared:                       0.001\n",
      "Model:                            OLS   Adj. R-squared:                  0.001\n",
      "Method:                 Least Squares   F-statistic:                     77.31\n",
      "Date:                Tue, 14 May 2019   Prob (F-statistic):           1.48e-18\n",
      "Time:                        11:22:43   Log-Likelihood:                -28028.\n",
      "No. Observations:              124533   AIC:                         5.606e+04\n",
      "Df Residuals:                  124531   BIC:                         5.608e+04\n",
      "Df Model:                           1                                         \n",
      "Covariance Type:            nonrobust                                         \n",
      "===============================================================================\n",
      "                  coef    std err          t      P>|t|      [0.025      0.975]\n",
      "-------------------------------------------------------------------------------\n",
      "Intercept       0.1069      0.001    106.707      0.000       0.105       0.109\n",
      "is_minority    -0.0171      0.002     -8.792      0.000      -0.021      -0.013\n",
      "==============================================================================\n",
      "Omnibus:                    62432.056   Durbin-Watson:                   1.674\n",
      "Prob(Omnibus):                  0.000   Jarque-Bera (JB):           265928.411\n",
      "Skew:                           2.621   Prob(JB):                         0.00\n",
      "Kurtosis:                       7.876   Cond. No.                         2.46\n",
      "==============================================================================\n",
      "\n",
      "Warnings:\n",
      "[1] Standard Errors assume that the covariance matrix of the errors is correctly specified.\n"
     ]
    }
   ],
   "source": [
    "mod = smf.ols('is_closer ~ is_minority', data=unique_ncid)\n",
    "res = mod.fit()\n",
    "print(res.summary())"
   ]
  },
  {
   "cell_type": "code",
   "execution_count": 29,
   "metadata": {
    "scrolled": false
   },
   "outputs": [
    {
     "name": "stdout",
     "output_type": "stream",
     "text": [
      "                            OLS Regression Results                            \n",
      "==============================================================================\n",
      "Dep. Variable:           poll_changed   R-squared:                       0.000\n",
      "Model:                            OLS   Adj. R-squared:                  0.000\n",
      "Method:                 Least Squares   F-statistic:                     18.17\n",
      "Date:                Tue, 14 May 2019   Prob (F-statistic):           2.02e-05\n",
      "Time:                        11:22:43   Log-Likelihood:                -66323.\n",
      "No. Observations:              124533   AIC:                         1.327e+05\n",
      "Df Residuals:                  124531   BIC:                         1.327e+05\n",
      "Df Model:                           1                                         \n",
      "Covariance Type:            nonrobust                                         \n",
      "===============================================================================\n",
      "                  coef    std err          t      P>|t|      [0.025      0.975]\n",
      "-------------------------------------------------------------------------------\n",
      "Intercept       0.2140      0.001    157.031      0.000       0.211       0.217\n",
      "is_minority     0.0113      0.003      4.263      0.000       0.006       0.016\n",
      "==============================================================================\n",
      "Omnibus:                    23157.994   Durbin-Watson:                   1.474\n",
      "Prob(Omnibus):                  0.000   Jarque-Bera (JB):            39195.532\n",
      "Skew:                           1.373   Prob(JB):                         0.00\n",
      "Kurtosis:                       2.886   Cond. No.                         2.46\n",
      "==============================================================================\n",
      "\n",
      "Warnings:\n",
      "[1] Standard Errors assume that the covariance matrix of the errors is correctly specified.\n"
     ]
    }
   ],
   "source": [
    "mod = smf.ols('poll_changed ~ is_minority', data=unique_ncid)\n",
    "res = mod.fit()\n",
    "print(res.summary())"
   ]
  },
  {
   "cell_type": "markdown",
   "metadata": {},
   "source": [
    "^^ No significant findings above"
   ]
  },
  {
   "cell_type": "markdown",
   "metadata": {},
   "source": [
    "#### HTE"
   ]
  },
  {
   "cell_type": "code",
   "execution_count": 30,
   "metadata": {},
   "outputs": [
    {
     "name": "stdout",
     "output_type": "stream",
     "text": [
      "                            OLS Regression Results                            \n",
      "==============================================================================\n",
      "Dep. Variable:                  voted   R-squared:                       0.017\n",
      "Model:                            OLS   Adj. R-squared:                  0.017\n",
      "Method:                 Least Squares   F-statistic:                     537.5\n",
      "Date:                Tue, 14 May 2019   Prob (F-statistic):               0.00\n",
      "Time:                        11:22:43   Log-Likelihood:            -1.6973e+05\n",
      "No. Observations:              420797   AIC:                         3.395e+05\n",
      "Df Residuals:                  420793   BIC:                         3.395e+05\n",
      "Df Model:                           3                                         \n",
      "Covariance Type:              cluster                                         \n",
      "============================================================================================\n",
      "                               coef    std err          z      P>|z|      [0.025      0.975]\n",
      "--------------------------------------------------------------------------------------------\n",
      "Intercept                    0.8709      0.001   1057.615      0.000       0.869       0.873\n",
      "poll_changed                -0.0215      0.003     -8.097      0.000      -0.027      -0.016\n",
      "is_minority                 -0.1075      0.003    -35.841      0.000      -0.113      -0.102\n",
      "poll_changed:is_minority     0.0175      0.006      2.902      0.004       0.006       0.029\n",
      "==============================================================================\n",
      "Omnibus:                   125062.550   Durbin-Watson:                   0.524\n",
      "Prob(Omnibus):                  0.000   Jarque-Bera (JB):           271697.148\n",
      "Skew:                          -1.826   Prob(JB):                         0.00\n",
      "Kurtosis:                       4.468   Cond. No.                         9.99\n",
      "==============================================================================\n",
      "\n",
      "Warnings:\n",
      "[1] Standard Errors are robust tocluster correlation (cluster)\n"
     ]
    }
   ],
   "source": [
    "mod = smf.ols('voted ~ poll_changed*is_minority', data=merged_df)\n",
    "res = mod.fit(cov_type='cluster',  cov_kwds={'groups': merged_df['block']})\n",
    "print(res.summary())"
   ]
  },
  {
   "cell_type": "code",
   "execution_count": 31,
   "metadata": {},
   "outputs": [
    {
     "name": "stdout",
     "output_type": "stream",
     "text": [
      "                            OLS Regression Results                            \n",
      "==============================================================================\n",
      "Dep. Variable:                  voted   R-squared:                       0.017\n",
      "Model:                            OLS   Adj. R-squared:                  0.017\n",
      "Method:                 Least Squares   F-statistic:                     325.7\n",
      "Date:                Tue, 14 May 2019   Prob (F-statistic):               0.00\n",
      "Time:                        11:22:43   Log-Likelihood:            -1.6972e+05\n",
      "No. Observations:              420797   AIC:                         3.395e+05\n",
      "Df Residuals:                  420791   BIC:                         3.395e+05\n",
      "Df Model:                           5                                         \n",
      "Covariance Type:              cluster                                         \n",
      "==========================================================================================\n",
      "                             coef    std err          z      P>|z|      [0.025      0.975]\n",
      "------------------------------------------------------------------------------------------\n",
      "Intercept                  0.8709      0.001   1057.612      0.000       0.869       0.873\n",
      "is_farther                -0.0273      0.004     -7.315      0.000      -0.035      -0.020\n",
      "is_minority               -0.1075      0.003    -35.841      0.000      -0.113      -0.102\n",
      "is_farther:is_minority     0.0253      0.008      3.358      0.001       0.011       0.040\n",
      "is_closer                 -0.0156      0.004     -4.296      0.000      -0.023      -0.008\n",
      "is_closer:is_minority      0.0086      0.009      0.941      0.347      -0.009       0.026\n",
      "==============================================================================\n",
      "Omnibus:                   125059.242   Durbin-Watson:                   0.524\n",
      "Prob(Omnibus):                  0.000   Jarque-Bera (JB):           271684.909\n",
      "Skew:                          -1.826   Prob(JB):                         0.00\n",
      "Kurtosis:                       4.468   Cond. No.                         14.9\n",
      "==============================================================================\n",
      "\n",
      "Warnings:\n",
      "[1] Standard Errors are robust tocluster correlation (cluster)\n"
     ]
    }
   ],
   "source": [
    "mod = smf.ols('voted ~ is_farther*is_minority + is_closer*is_minority', data=merged_df)\n",
    "res = mod.fit(cov_type='cluster',  cov_kwds={'groups': merged_df['block']})\n",
    "print(res.summary())"
   ]
  },
  {
   "cell_type": "markdown",
   "metadata": {},
   "source": [
    "### Donut approach with minorities"
   ]
  },
  {
   "cell_type": "code",
   "execution_count": 32,
   "metadata": {
    "collapsed": true
   },
   "outputs": [],
   "source": [
    "donut_merged = pd.merge(donut_df, finalized_df, on='ncid', how='inner')\n",
    "donut_merged['is_minority'] = np.where(donut_merged['race_code']=='W', 0, 1)"
   ]
  },
  {
   "cell_type": "code",
   "execution_count": 33,
   "metadata": {
    "collapsed": true
   },
   "outputs": [],
   "source": [
    "# Getting unique NCIDs\n",
    "donut_unique_ncid = donut_merged.groupby('ncid').first() "
   ]
  },
  {
   "cell_type": "markdown",
   "metadata": {},
   "source": [
    "#### High-level descriptives"
   ]
  },
  {
   "cell_type": "code",
   "execution_count": 34,
   "metadata": {},
   "outputs": [
    {
     "name": "stdout",
     "output_type": "stream",
     "text": [
      "                            OLS Regression Results                            \n",
      "==============================================================================\n",
      "Dep. Variable:             is_farther   R-squared:                       0.001\n",
      "Model:                            OLS   Adj. R-squared:                  0.001\n",
      "Method:                 Least Squares   F-statistic:                     62.15\n",
      "Date:                Tue, 14 May 2019   Prob (F-statistic):           3.23e-15\n",
      "Time:                        11:22:46   Log-Likelihood:                -9366.3\n",
      "No. Observations:               68049   AIC:                         1.874e+04\n",
      "Df Residuals:                   68047   BIC:                         1.875e+04\n",
      "Df Model:                           1                                         \n",
      "Covariance Type:            nonrobust                                         \n",
      "===============================================================================\n",
      "                  coef    std err          t      P>|t|      [0.025      0.975]\n",
      "-------------------------------------------------------------------------------\n",
      "Intercept       0.0795      0.001     65.091      0.000       0.077       0.082\n",
      "is_minority     0.0196      0.002      7.884      0.000       0.015       0.024\n",
      "==============================================================================\n",
      "Omnibus:                    39967.301   Durbin-Watson:                   1.605\n",
      "Prob(Omnibus):                  0.000   Jarque-Bera (JB):           238095.563\n",
      "Skew:                           2.989   Prob(JB):                         0.00\n",
      "Kurtosis:                       9.945   Cond. No.                         2.50\n",
      "==============================================================================\n",
      "\n",
      "Warnings:\n",
      "[1] Standard Errors assume that the covariance matrix of the errors is correctly specified.\n"
     ]
    }
   ],
   "source": [
    "mod = smf.ols('is_farther ~ is_minority', data=donut_unique_ncid)\n",
    "res = mod.fit()\n",
    "print(res.summary())"
   ]
  },
  {
   "cell_type": "code",
   "execution_count": 35,
   "metadata": {},
   "outputs": [
    {
     "name": "stdout",
     "output_type": "stream",
     "text": [
      "                            OLS Regression Results                            \n",
      "==============================================================================\n",
      "Dep. Variable:              is_closer   R-squared:                       0.002\n",
      "Model:                            OLS   Adj. R-squared:                  0.002\n",
      "Method:                 Least Squares   F-statistic:                     135.3\n",
      "Date:                Tue, 14 May 2019   Prob (F-statistic):           3.11e-31\n",
      "Time:                        11:22:46   Log-Likelihood:                 2074.4\n",
      "No. Observations:               68049   AIC:                            -4145.\n",
      "Df Residuals:                   68047   BIC:                            -4127.\n",
      "Df Model:                           1                                         \n",
      "Covariance Type:            nonrobust                                         \n",
      "===============================================================================\n",
      "                  coef    std err          t      P>|t|      [0.025      0.975]\n",
      "-------------------------------------------------------------------------------\n",
      "Intercept       0.0645      0.001     62.477      0.000       0.063       0.067\n",
      "is_minority    -0.0245      0.002    -11.630      0.000      -0.029      -0.020\n",
      "==============================================================================\n",
      "Omnibus:                    50632.135   Durbin-Watson:                   1.592\n",
      "Prob(Omnibus):                  0.000   Jarque-Bera (JB):           571961.972\n",
      "Skew:                           3.746   Prob(JB):                         0.00\n",
      "Kurtosis:                      15.066   Cond. No.                         2.50\n",
      "==============================================================================\n",
      "\n",
      "Warnings:\n",
      "[1] Standard Errors assume that the covariance matrix of the errors is correctly specified.\n"
     ]
    }
   ],
   "source": [
    "mod = smf.ols('is_closer ~ is_minority', data=donut_unique_ncid)\n",
    "res = mod.fit()\n",
    "print(res.summary())"
   ]
  },
  {
   "cell_type": "code",
   "execution_count": null,
   "metadata": {
    "collapsed": true
   },
   "outputs": [],
   "source": []
  },
  {
   "cell_type": "markdown",
   "metadata": {},
   "source": [
    "**Main takeaway**: amongst the voters whose polling place changed by > 1 mile, being a minority corresponds to about a 2-2.5% higher likelihood that it will be farther away."
   ]
  },
  {
   "cell_type": "code",
   "execution_count": 36,
   "metadata": {},
   "outputs": [
    {
     "data": {
      "text/html": [
       "<div>\n",
       "<style scoped>\n",
       "    .dataframe tbody tr th:only-of-type {\n",
       "        vertical-align: middle;\n",
       "    }\n",
       "\n",
       "    .dataframe tbody tr th {\n",
       "        vertical-align: top;\n",
       "    }\n",
       "\n",
       "    .dataframe thead th {\n",
       "        text-align: right;\n",
       "    }\n",
       "</style>\n",
       "<table border=\"1\" class=\"dataframe\">\n",
       "  <thead>\n",
       "    <tr style=\"text-align: right;\">\n",
       "      <th></th>\n",
       "      <th>ncid</th>\n",
       "      <th>poll_changed</th>\n",
       "      <th>voted</th>\n",
       "      <th>delta_dist</th>\n",
       "      <th>voting_method</th>\n",
       "      <th>block</th>\n",
       "      <th>is_closer</th>\n",
       "      <th>is_farther</th>\n",
       "      <th>is_absentee</th>\n",
       "      <th>in_person_vote</th>\n",
       "      <th>race_code</th>\n",
       "      <th>is_minority</th>\n",
       "    </tr>\n",
       "  </thead>\n",
       "  <tbody>\n",
       "    <tr>\n",
       "      <th>0</th>\n",
       "      <td>BH18756</td>\n",
       "      <td>0.0</td>\n",
       "      <td>1.0</td>\n",
       "      <td>0.0</td>\n",
       "      <td>ABSENTEE ONESTOP</td>\n",
       "      <td>0</td>\n",
       "      <td>0</td>\n",
       "      <td>0</td>\n",
       "      <td>1</td>\n",
       "      <td>0</td>\n",
       "      <td>W</td>\n",
       "      <td>0</td>\n",
       "    </tr>\n",
       "    <tr>\n",
       "      <th>1</th>\n",
       "      <td>BH18756</td>\n",
       "      <td>0.0</td>\n",
       "      <td>1.0</td>\n",
       "      <td>0.0</td>\n",
       "      <td>ABSENTEE ONESTOP</td>\n",
       "      <td>1</td>\n",
       "      <td>0</td>\n",
       "      <td>0</td>\n",
       "      <td>1</td>\n",
       "      <td>0</td>\n",
       "      <td>W</td>\n",
       "      <td>0</td>\n",
       "    </tr>\n",
       "  </tbody>\n",
       "</table>\n",
       "</div>"
      ],
      "text/plain": [
       "      ncid  poll_changed  voted  delta_dist     voting_method  block  \\\n",
       "0  BH18756           0.0    1.0         0.0  ABSENTEE ONESTOP      0   \n",
       "1  BH18756           0.0    1.0         0.0  ABSENTEE ONESTOP      1   \n",
       "\n",
       "   is_closer  is_farther  is_absentee  in_person_vote race_code  is_minority  \n",
       "0          0           0            1               0         W            0  \n",
       "1          0           0            1               0         W            0  "
      ]
     },
     "execution_count": 36,
     "metadata": {},
     "output_type": "execute_result"
    }
   ],
   "source": [
    "merged_df.head(2)"
   ]
  },
  {
   "cell_type": "code",
   "execution_count": 37,
   "metadata": {},
   "outputs": [
    {
     "data": {
      "image/png": "[encoded data removed]",
      "text/plain": [
       "<matplotlib.figure.Figure at 0x16e0dfa20>"
      ]
     },
     "metadata": {},
     "output_type": "display_data"
    }
   ],
   "source": [
    "minorities_merged = merged_df[(merged_df['race_code']=='W') & (np.abs(merged_df['delta_dist'])<2)]\n",
    "nonminorities_merged = merged_df[(merged_df['race_code']!='W') & (np.abs(merged_df['delta_dist'])<2)]\n",
    "sns.distplot(minorities_merged['delta_dist']);\n",
    "sns.distplot(nonminorities_merged['delta_dist']);"
   ]
  },
  {
   "cell_type": "code",
   "execution_count": 38,
   "metadata": {},
   "outputs": [
    {
     "data": {
      "text/plain": [
       "1.9988790914256749"
      ]
     },
     "execution_count": 38,
     "metadata": {},
     "output_type": "execute_result"
    }
   ],
   "source": [
    "minorities_merged['delta_dist'].max()"
   ]
  },
  {
   "cell_type": "code",
   "execution_count": null,
   "metadata": {
    "collapsed": true
   },
   "outputs": [],
   "source": []
  },
  {
   "cell_type": "markdown",
   "metadata": {},
   "source": [
    "## Checking 2012 data"
   ]
  },
  {
   "cell_type": "code",
   "execution_count": 57,
   "metadata": {
    "collapsed": true
   },
   "outputs": [],
   "source": [
    "twenty_twelve = pd.read_csv('/Users/jakemainwaring/Downloads/2012_votes.csv')"
   ]
  },
  {
   "cell_type": "code",
   "execution_count": 58,
   "metadata": {},
   "outputs": [
    {
     "data": {
      "text/html": [
       "<div>\n",
       "<style scoped>\n",
       "    .dataframe tbody tr th:only-of-type {\n",
       "        vertical-align: middle;\n",
       "    }\n",
       "\n",
       "    .dataframe tbody tr th {\n",
       "        vertical-align: top;\n",
       "    }\n",
       "\n",
       "    .dataframe thead th {\n",
       "        text-align: right;\n",
       "    }\n",
       "</style>\n",
       "<table border=\"1\" class=\"dataframe\">\n",
       "  <thead>\n",
       "    <tr style=\"text-align: right;\">\n",
       "      <th></th>\n",
       "      <th>ncid</th>\n",
       "      <th>voted_2012</th>\n",
       "    </tr>\n",
       "  </thead>\n",
       "  <tbody>\n",
       "    <tr>\n",
       "      <th>0</th>\n",
       "      <td>BY25079</td>\n",
       "      <td>1.0</td>\n",
       "    </tr>\n",
       "    <tr>\n",
       "      <th>1</th>\n",
       "      <td>BY250876</td>\n",
       "      <td>1.0</td>\n",
       "    </tr>\n",
       "  </tbody>\n",
       "</table>\n",
       "</div>"
      ],
      "text/plain": [
       "       ncid  voted_2012\n",
       "0   BY25079         1.0\n",
       "1  BY250876         1.0"
      ]
     },
     "execution_count": 58,
     "metadata": {},
     "output_type": "execute_result"
    }
   ],
   "source": [
    "twenty_twelve.head(2)"
   ]
  },
  {
   "cell_type": "code",
   "execution_count": 59,
   "metadata": {},
   "outputs": [
    {
     "data": {
      "text/html": [
       "<div>\n",
       "<style scoped>\n",
       "    .dataframe tbody tr th:only-of-type {\n",
       "        vertical-align: middle;\n",
       "    }\n",
       "\n",
       "    .dataframe tbody tr th {\n",
       "        vertical-align: top;\n",
       "    }\n",
       "\n",
       "    .dataframe thead th {\n",
       "        text-align: right;\n",
       "    }\n",
       "</style>\n",
       "<table border=\"1\" class=\"dataframe\">\n",
       "  <thead>\n",
       "    <tr style=\"text-align: right;\">\n",
       "      <th></th>\n",
       "      <th>ncid</th>\n",
       "      <th>poll_changed</th>\n",
       "      <th>voted</th>\n",
       "      <th>delta_dist</th>\n",
       "      <th>voting_method</th>\n",
       "      <th>block</th>\n",
       "      <th>is_closer</th>\n",
       "      <th>is_farther</th>\n",
       "      <th>is_absentee</th>\n",
       "      <th>in_person_vote</th>\n",
       "      <th>race_code</th>\n",
       "      <th>is_minority</th>\n",
       "    </tr>\n",
       "  </thead>\n",
       "  <tbody>\n",
       "    <tr>\n",
       "      <th>0</th>\n",
       "      <td>BH18756</td>\n",
       "      <td>0.0</td>\n",
       "      <td>1.0</td>\n",
       "      <td>0.0</td>\n",
       "      <td>ABSENTEE ONESTOP</td>\n",
       "      <td>0</td>\n",
       "      <td>0</td>\n",
       "      <td>0</td>\n",
       "      <td>1</td>\n",
       "      <td>0</td>\n",
       "      <td>W</td>\n",
       "      <td>0</td>\n",
       "    </tr>\n",
       "    <tr>\n",
       "      <th>1</th>\n",
       "      <td>BH18756</td>\n",
       "      <td>0.0</td>\n",
       "      <td>1.0</td>\n",
       "      <td>0.0</td>\n",
       "      <td>ABSENTEE ONESTOP</td>\n",
       "      <td>1</td>\n",
       "      <td>0</td>\n",
       "      <td>0</td>\n",
       "      <td>1</td>\n",
       "      <td>0</td>\n",
       "      <td>W</td>\n",
       "      <td>0</td>\n",
       "    </tr>\n",
       "    <tr>\n",
       "      <th>2</th>\n",
       "      <td>BH18762</td>\n",
       "      <td>0.0</td>\n",
       "      <td>1.0</td>\n",
       "      <td>0.0</td>\n",
       "      <td>ABSENTEE ONESTOP</td>\n",
       "      <td>0</td>\n",
       "      <td>0</td>\n",
       "      <td>0</td>\n",
       "      <td>1</td>\n",
       "      <td>0</td>\n",
       "      <td>W</td>\n",
       "      <td>0</td>\n",
       "    </tr>\n",
       "    <tr>\n",
       "      <th>3</th>\n",
       "      <td>BH18762</td>\n",
       "      <td>0.0</td>\n",
       "      <td>1.0</td>\n",
       "      <td>0.0</td>\n",
       "      <td>ABSENTEE ONESTOP</td>\n",
       "      <td>1</td>\n",
       "      <td>0</td>\n",
       "      <td>0</td>\n",
       "      <td>1</td>\n",
       "      <td>0</td>\n",
       "      <td>W</td>\n",
       "      <td>0</td>\n",
       "    </tr>\n",
       "    <tr>\n",
       "      <th>4</th>\n",
       "      <td>BH79589</td>\n",
       "      <td>0.0</td>\n",
       "      <td>1.0</td>\n",
       "      <td>0.0</td>\n",
       "      <td>ABSENTEE ONESTOP</td>\n",
       "      <td>0</td>\n",
       "      <td>0</td>\n",
       "      <td>0</td>\n",
       "      <td>1</td>\n",
       "      <td>0</td>\n",
       "      <td>W</td>\n",
       "      <td>0</td>\n",
       "    </tr>\n",
       "  </tbody>\n",
       "</table>\n",
       "</div>"
      ],
      "text/plain": [
       "      ncid  poll_changed  voted  delta_dist     voting_method  block  \\\n",
       "0  BH18756           0.0    1.0         0.0  ABSENTEE ONESTOP      0   \n",
       "1  BH18756           0.0    1.0         0.0  ABSENTEE ONESTOP      1   \n",
       "2  BH18762           0.0    1.0         0.0  ABSENTEE ONESTOP      0   \n",
       "3  BH18762           0.0    1.0         0.0  ABSENTEE ONESTOP      1   \n",
       "4  BH79589           0.0    1.0         0.0  ABSENTEE ONESTOP      0   \n",
       "\n",
       "   is_closer  is_farther  is_absentee  in_person_vote race_code  is_minority  \n",
       "0          0           0            1               0         W            0  \n",
       "1          0           0            1               0         W            0  \n",
       "2          0           0            1               0         W            0  \n",
       "3          0           0            1               0         W            0  \n",
       "4          0           0            1               0         W            0  "
      ]
     },
     "execution_count": 59,
     "metadata": {},
     "output_type": "execute_result"
    }
   ],
   "source": [
    "merged_df.head()"
   ]
  },
  {
   "cell_type": "code",
   "execution_count": 60,
   "metadata": {
    "collapsed": true
   },
   "outputs": [],
   "source": [
    "twenty_twelve_merged = pd.merge(twenty_twelve, merged_df, on='ncid', how='inner')"
   ]
  },
  {
   "cell_type": "code",
   "execution_count": 61,
   "metadata": {},
   "outputs": [
    {
     "data": {
      "text/html": [
       "<div>\n",
       "<style scoped>\n",
       "    .dataframe tbody tr th:only-of-type {\n",
       "        vertical-align: middle;\n",
       "    }\n",
       "\n",
       "    .dataframe tbody tr th {\n",
       "        vertical-align: top;\n",
       "    }\n",
       "\n",
       "    .dataframe thead th {\n",
       "        text-align: right;\n",
       "    }\n",
       "</style>\n",
       "<table border=\"1\" class=\"dataframe\">\n",
       "  <thead>\n",
       "    <tr style=\"text-align: right;\">\n",
       "      <th></th>\n",
       "      <th>ncid</th>\n",
       "      <th>voted_2012</th>\n",
       "      <th>poll_changed</th>\n",
       "      <th>voted</th>\n",
       "      <th>delta_dist</th>\n",
       "      <th>voting_method</th>\n",
       "      <th>block</th>\n",
       "      <th>is_closer</th>\n",
       "      <th>is_farther</th>\n",
       "      <th>is_absentee</th>\n",
       "      <th>in_person_vote</th>\n",
       "      <th>race_code</th>\n",
       "      <th>is_minority</th>\n",
       "    </tr>\n",
       "  </thead>\n",
       "  <tbody>\n",
       "    <tr>\n",
       "      <th>0</th>\n",
       "      <td>BY251461</td>\n",
       "      <td>1.0</td>\n",
       "      <td>0.0</td>\n",
       "      <td>1.0</td>\n",
       "      <td>0.0</td>\n",
       "      <td>ABSENTEE BY MAIL</td>\n",
       "      <td>14027</td>\n",
       "      <td>0</td>\n",
       "      <td>0</td>\n",
       "      <td>1</td>\n",
       "      <td>0</td>\n",
       "      <td>W</td>\n",
       "      <td>0</td>\n",
       "    </tr>\n",
       "    <tr>\n",
       "      <th>1</th>\n",
       "      <td>BY251461</td>\n",
       "      <td>1.0</td>\n",
       "      <td>0.0</td>\n",
       "      <td>1.0</td>\n",
       "      <td>0.0</td>\n",
       "      <td>ABSENTEE BY MAIL</td>\n",
       "      <td>14028</td>\n",
       "      <td>0</td>\n",
       "      <td>0</td>\n",
       "      <td>1</td>\n",
       "      <td>0</td>\n",
       "      <td>W</td>\n",
       "      <td>0</td>\n",
       "    </tr>\n",
       "  </tbody>\n",
       "</table>\n",
       "</div>"
      ],
      "text/plain": [
       "       ncid  voted_2012  poll_changed  voted  delta_dist     voting_method  \\\n",
       "0  BY251461         1.0           0.0    1.0         0.0  ABSENTEE BY MAIL   \n",
       "1  BY251461         1.0           0.0    1.0         0.0  ABSENTEE BY MAIL   \n",
       "\n",
       "   block  is_closer  is_farther  is_absentee  in_person_vote race_code  \\\n",
       "0  14027          0           0            1               0         W   \n",
       "1  14028          0           0            1               0         W   \n",
       "\n",
       "   is_minority  \n",
       "0            0  \n",
       "1            0  "
      ]
     },
     "execution_count": 61,
     "metadata": {},
     "output_type": "execute_result"
    }
   ],
   "source": [
    "twenty_twelve_merged.head(2)"
   ]
  },
  {
   "cell_type": "code",
   "execution_count": 62,
   "metadata": {},
   "outputs": [
    {
     "name": "stdout",
     "output_type": "stream",
     "text": [
      "                            OLS Regression Results                            \n",
      "==============================================================================\n",
      "Dep. Variable:             voted_2012   R-squared:                       0.000\n",
      "Model:                            OLS   Adj. R-squared:                  0.000\n",
      "Method:                 Least Squares   F-statistic:                     126.7\n",
      "Date:                Tue, 14 May 2019   Prob (F-statistic):           2.50e-29\n",
      "Time:                        14:15:23   Log-Likelihood:                -99061.\n",
      "No. Observations:              420791   AIC:                         1.981e+05\n",
      "Df Residuals:                  420789   BIC:                         1.981e+05\n",
      "Df Model:                           1                                         \n",
      "Covariance Type:              cluster                                         \n",
      "================================================================================\n",
      "                   coef    std err          z      P>|z|      [0.025      0.975]\n",
      "--------------------------------------------------------------------------------\n",
      "Intercept        0.8968      0.001   1370.868      0.000       0.895       0.898\n",
      "poll_changed    -0.0236      0.002    -11.257      0.000      -0.028      -0.020\n",
      "==============================================================================\n",
      "Omnibus:                   206672.086   Durbin-Watson:                   0.547\n",
      "Prob(Omnibus):                  0.000   Jarque-Bera (JB):           847318.644\n",
      "Skew:                          -2.580   Prob(JB):                         0.00\n",
      "Kurtosis:                       7.659   Cond. No.                         4.10\n",
      "==============================================================================\n",
      "\n",
      "Warnings:\n",
      "[1] Standard Errors are robust tocluster correlation (cluster)\n"
     ]
    }
   ],
   "source": [
    "mod = smf.ols('voted_2012 ~ poll_changed', data=twenty_twelve_merged)\n",
    "res = mod.fit(cov_type='cluster',  cov_kwds={'groups': twenty_twelve_merged['block']})\n",
    "print(res.summary())"
   ]
  },
  {
   "cell_type": "code",
   "execution_count": 63,
   "metadata": {},
   "outputs": [
    {
     "name": "stdout",
     "output_type": "stream",
     "text": [
      "                            OLS Regression Results                            \n",
      "==============================================================================\n",
      "Dep. Variable:             voted_2012   R-squared:                       0.000\n",
      "Model:                            OLS   Adj. R-squared:                  0.000\n",
      "Method:                 Least Squares   F-statistic:                     64.01\n",
      "Date:                Tue, 14 May 2019   Prob (F-statistic):           1.85e-28\n",
      "Time:                        14:15:26   Log-Likelihood:                -99060.\n",
      "No. Observations:              420791   AIC:                         1.981e+05\n",
      "Df Residuals:                  420788   BIC:                         1.982e+05\n",
      "Df Model:                           2                                         \n",
      "Covariance Type:              cluster                                         \n",
      "==============================================================================\n",
      "                 coef    std err          z      P>|z|      [0.025      0.975]\n",
      "------------------------------------------------------------------------------\n",
      "Intercept      0.8968      0.001   1370.866      0.000       0.895       0.898\n",
      "is_closer     -0.0208      0.003     -6.987      0.000      -0.027      -0.015\n",
      "is_farther    -0.0262      0.003     -9.147      0.000      -0.032      -0.021\n",
      "==============================================================================\n",
      "Omnibus:                   206670.752   Durbin-Watson:                   0.547\n",
      "Prob(Omnibus):                  0.000   Jarque-Bera (JB):           847307.478\n",
      "Skew:                          -2.580   Prob(JB):                         0.00\n",
      "Kurtosis:                       7.659   Cond. No.                         5.87\n",
      "==============================================================================\n",
      "\n",
      "Warnings:\n",
      "[1] Standard Errors are robust tocluster correlation (cluster)\n"
     ]
    }
   ],
   "source": [
    "mod = smf.ols('voted_2012 ~ is_closer + is_farther', data=twenty_twelve_merged)\n",
    "res = mod.fit(cov_type='cluster',  cov_kwds={'groups': twenty_twelve_merged['block']})\n",
    "print(res.summary())"
   ]
  },
  {
   "cell_type": "code",
   "execution_count": 69,
   "metadata": {},
   "outputs": [
    {
     "data": {
      "text/html": [
       "<div>\n",
       "<style scoped>\n",
       "    .dataframe tbody tr th:only-of-type {\n",
       "        vertical-align: middle;\n",
       "    }\n",
       "\n",
       "    .dataframe tbody tr th {\n",
       "        vertical-align: top;\n",
       "    }\n",
       "\n",
       "    .dataframe thead th {\n",
       "        text-align: right;\n",
       "    }\n",
       "</style>\n",
       "<table border=\"1\" class=\"dataframe\">\n",
       "  <thead>\n",
       "    <tr style=\"text-align: right;\">\n",
       "      <th></th>\n",
       "      <th>voted</th>\n",
       "      <th>voted_2012</th>\n",
       "      <th>difference</th>\n",
       "    </tr>\n",
       "    <tr>\n",
       "      <th>race_code</th>\n",
       "      <th></th>\n",
       "      <th></th>\n",
       "      <th></th>\n",
       "    </tr>\n",
       "  </thead>\n",
       "  <tbody>\n",
       "    <tr>\n",
       "      <th>A</th>\n",
       "      <td>0.766080</td>\n",
       "      <td>0.814961</td>\n",
       "      <td>-0.048882</td>\n",
       "    </tr>\n",
       "    <tr>\n",
       "      <th>B</th>\n",
       "      <td>0.773047</td>\n",
       "      <td>0.913401</td>\n",
       "      <td>-0.140354</td>\n",
       "    </tr>\n",
       "    <tr>\n",
       "      <th>I</th>\n",
       "      <td>0.687773</td>\n",
       "      <td>0.702329</td>\n",
       "      <td>-0.014556</td>\n",
       "    </tr>\n",
       "    <tr>\n",
       "      <th>M</th>\n",
       "      <td>0.550582</td>\n",
       "      <td>0.866953</td>\n",
       "      <td>-0.316370</td>\n",
       "    </tr>\n",
       "    <tr>\n",
       "      <th>O</th>\n",
       "      <td>0.733888</td>\n",
       "      <td>0.751135</td>\n",
       "      <td>-0.017247</td>\n",
       "    </tr>\n",
       "    <tr>\n",
       "      <th>U</th>\n",
       "      <td>0.742082</td>\n",
       "      <td>0.862170</td>\n",
       "      <td>-0.120088</td>\n",
       "    </tr>\n",
       "    <tr>\n",
       "      <th>W</th>\n",
       "      <td>0.869557</td>\n",
       "      <td>0.897034</td>\n",
       "      <td>-0.027477</td>\n",
       "    </tr>\n",
       "  </tbody>\n",
       "</table>\n",
       "</div>"
      ],
      "text/plain": [
       "              voted  voted_2012  difference\n",
       "race_code                                  \n",
       "A          0.766080    0.814961   -0.048882\n",
       "B          0.773047    0.913401   -0.140354\n",
       "I          0.687773    0.702329   -0.014556\n",
       "M          0.550582    0.866953   -0.316370\n",
       "O          0.733888    0.751135   -0.017247\n",
       "U          0.742082    0.862170   -0.120088\n",
       "W          0.869557    0.897034   -0.027477"
      ]
     },
     "execution_count": 69,
     "metadata": {},
     "output_type": "execute_result"
    }
   ],
   "source": [
    "race_dif = twenty_twelve_merged.groupby('race_code')[['voted', 'voted_2012']].mean()\n",
    "race_dif['difference'] = race_dif['voted'] - race_dif['voted_2012']\n",
    "race_dif"
   ]
  }
 ],
 "metadata": {
  "kernelspec": {
   "display_name": "Python 3",
   "language": "python",
   "name": "python3"
  },
  "language_info": {
   "codemirror_mode": {
    "name": "ipython",
    "version": 3
   },
   "file_extension": ".py",
   "mimetype": "text/x-python",
   "name": "python",
   "nbconvert_exporter": "python",
   "pygments_lexer": "ipython3",
   "version": "3.6.1"
  },
  "toc": {
   "base_numbering": 1,
   "nav_menu": {},
   "number_sections": false,
   "sideBar": true,
   "skip_h1_title": false,
   "title_cell": "Table of Contents",
   "title_sidebar": "Contents",
   "toc_cell": true,
   "toc_position": {},
   "toc_section_display": true,
   "toc_window_display": false
  }
 },
 "nbformat": 4,
 "nbformat_minor": 2
}
