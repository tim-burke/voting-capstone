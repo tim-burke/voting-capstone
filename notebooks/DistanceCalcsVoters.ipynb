{
 "cells": [
  {
   "cell_type": "markdown",
   "metadata": {
    "toc": true
   },
   "source": [
    "<h1>Table of Contents<span class=\"tocSkip\"></span></h1>\n",
    "<div class=\"toc\"><ul class=\"toc-item\"><li><span><a href=\"#Address-queries\" data-toc-modified-id=\"Address-queries-1\">Address queries</a></span><ul class=\"toc-item\"><li><ul class=\"toc-item\"><li><span><a href=\"#Process\" data-toc-modified-id=\"Process-1.0.1\">Process</a></span></li><li><span><a href=\"#Adding-poll_changed-(can-delete-this-section-in-the-full-py-script-because-we'll-already-have-this-column)\" data-toc-modified-id=\"Adding-poll_changed-(can-delete-this-section-in-the-full-py-script-because-we'll-already-have-this-column)-1.0.2\">Adding poll_changed (can delete this section in the full py script because we'll already have this column)</a></span></li><li><span><a href=\"#Calculating-distance\" data-toc-modified-id=\"Calculating-distance-1.0.3\">Calculating distance</a></span><ul class=\"toc-item\"><li><span><a href=\"#Sorting\" data-toc-modified-id=\"Sorting-1.0.3.1\">Sorting</a></span></li><li><span><a href=\"#Finding-50-closest-neighbors-for-those-with-new-polling-places\" data-toc-modified-id=\"Finding-50-closest-neighbors-for-those-with-new-polling-places-1.0.3.2\">Finding 50 closest neighbors for those with new polling places</a></span></li></ul></li></ul></li></ul></li></ul></div>"
   ]
  },
  {
   "cell_type": "markdown",
   "metadata": {},
   "source": [
    "# Address queries"
   ]
  },
  {
   "cell_type": "markdown",
   "metadata": {},
   "source": [
    "### Process\n",
    " - First, need to sort by lat/long, since this is only an O(N log N) operation \n",
    " - Then, for each of the ones _with a new polling place_, which reduces it 10-fold, find the 100 closest locations (50 up and 50 down unless it's at the top or bottom)\n",
    " - Calculate distance between each polling and its closest 100 locations  \n",
    " - Instead of 2,000,000 x 2,000,000 calculations with the 0.1 degrees approach, this is only 200,000 x 100 "
   ]
  },
  {
   "cell_type": "code",
   "execution_count": 231,
   "metadata": {
    "collapsed": true
   },
   "outputs": [],
   "source": [
    "from dask import dataframe as dd\n",
    "import cleaning_functions\n",
    "from pygeocoder import Geocoder as geo\n",
    "from math import radians, cos, sin, asin, sqrt\n",
    "import numpy as np\n",
    "import pandas as pd"
   ]
  },
  {
   "cell_type": "code",
   "execution_count": 232,
   "metadata": {
    "scrolled": true
   },
   "outputs": [],
   "source": [
    "# Loading data and dropping duplicates\n",
    "df = pd.read_csv('NC-000_gc.tsv', sep='\\t')\n",
    "df = df.drop_duplicates(subset=['ncid'])"
   ]
  },
  {
   "cell_type": "code",
   "execution_count": 233,
   "metadata": {
    "collapsed": true
   },
   "outputs": [],
   "source": [
    "def lat_long_columns ():\n",
    "    \n",
    "    '''\n",
    "    Function that creates latitude and longitude columns from the coords column\n",
    "    '''\n",
    "\n",
    "    latitude_list = []\n",
    "    longitude_list = []\n",
    "\n",
    "    for count, elem in enumerate(df['coords'].tolist()):\n",
    "        latitutde = float(column_list[count].split(',')[0].replace('(', ''))\n",
    "        latitude_list.append(latitutde)\n",
    "\n",
    "        longitude = float(column_list[count].split(',')[1].replace(')', '').replace(' ', ''))\n",
    "        longitude_list.append(longitude)\n",
    "    \n",
    "    df['latitude'] = latitude_list\n",
    "    df['longitude'] = longitude_list\n",
    "    \n",
    "    return df"
   ]
  },
  {
   "cell_type": "code",
   "execution_count": 234,
   "metadata": {},
   "outputs": [],
   "source": [
    "# Running the lat/long column function\n",
    "df = lat_long_columns()"
   ]
  },
  {
   "cell_type": "code",
   "execution_count": 235,
   "metadata": {
    "scrolled": false
   },
   "outputs": [
    {
     "data": {
      "text/html": [
       "<div>\n",
       "<style scoped>\n",
       "    .dataframe tbody tr th:only-of-type {\n",
       "        vertical-align: middle;\n",
       "    }\n",
       "\n",
       "    .dataframe tbody tr th {\n",
       "        vertical-align: top;\n",
       "    }\n",
       "\n",
       "    .dataframe thead th {\n",
       "        text-align: right;\n",
       "    }\n",
       "</style>\n",
       "<table border=\"1\" class=\"dataframe\">\n",
       "  <thead>\n",
       "    <tr style=\"text-align: right;\">\n",
       "      <th></th>\n",
       "      <th>ncid</th>\n",
       "      <th>race_code</th>\n",
       "      <th>active</th>\n",
       "      <th>address</th>\n",
       "      <th>county_desc</th>\n",
       "      <th>polling_place_name</th>\n",
       "      <th>voting_method</th>\n",
       "      <th>precinct</th>\n",
       "      <th>poll_address</th>\n",
       "      <th>latitude</th>\n",
       "      <th>longitude</th>\n",
       "    </tr>\n",
       "  </thead>\n",
       "  <tbody>\n",
       "    <tr>\n",
       "      <th>0</th>\n",
       "      <td>AA100006</td>\n",
       "      <td>W</td>\n",
       "      <td>1.0</td>\n",
       "      <td>3613 DOE LN ,HAW RIVER,NC 27258</td>\n",
       "      <td>ALAMANCE</td>\n",
       "      <td>SALEM UNITED METHODIST CHURCH</td>\n",
       "      <td>ABSENTEE ONESTOP</td>\n",
       "      <td>SOUTH THOMPSON</td>\n",
       "      <td>4924 SALEM CHURCH RD, HAW RIVER, NC 27258</td>\n",
       "      <td>35.998117</td>\n",
       "      <td>-79.316782</td>\n",
       "    </tr>\n",
       "    <tr>\n",
       "      <th>1</th>\n",
       "      <td>AA100009</td>\n",
       "      <td>W</td>\n",
       "      <td>1.0</td>\n",
       "      <td>2652 SAXAPAHAW-BETHLEHEM CHURCH RD ,GRAHAM,NC ...</td>\n",
       "      <td>ALAMANCE</td>\n",
       "      <td>SALEM UNITED METHODIST CHURCH</td>\n",
       "      <td>ABSENTEE ONESTOP</td>\n",
       "      <td>SOUTH THOMPSON</td>\n",
       "      <td>4924 SALEM CHURCH RD, HAW RIVER, NC 27258</td>\n",
       "      <td>35.958465</td>\n",
       "      <td>-79.290700</td>\n",
       "    </tr>\n",
       "    <tr>\n",
       "      <th>2</th>\n",
       "      <td>AA100029</td>\n",
       "      <td>W</td>\n",
       "      <td>1.0</td>\n",
       "      <td>3761 PHILLIPS CHAPEL RD ,HAW RIVER,NC 27258</td>\n",
       "      <td>ALAMANCE</td>\n",
       "      <td>SALEM UNITED METHODIST CHURCH</td>\n",
       "      <td>IN-PERSON</td>\n",
       "      <td>SOUTH THOMPSON</td>\n",
       "      <td>4924 SALEM CHURCH RD, HAW RIVER, NC 27258</td>\n",
       "      <td>35.994820</td>\n",
       "      <td>-79.316823</td>\n",
       "    </tr>\n",
       "    <tr>\n",
       "      <th>3</th>\n",
       "      <td>AA100050</td>\n",
       "      <td>W</td>\n",
       "      <td>1.0</td>\n",
       "      <td>5114 SWEPSONVILLE-SAXAPAHAW RD ,GRAHAM,NC 27253</td>\n",
       "      <td>ALAMANCE</td>\n",
       "      <td>SALEM UNITED METHODIST CHURCH</td>\n",
       "      <td>ABSENTEE ONESTOP</td>\n",
       "      <td>SOUTH THOMPSON</td>\n",
       "      <td>4924 SALEM CHURCH RD, HAW RIVER, NC 27258</td>\n",
       "      <td>35.972383</td>\n",
       "      <td>-79.322328</td>\n",
       "    </tr>\n",
       "    <tr>\n",
       "      <th>4</th>\n",
       "      <td>AA100084</td>\n",
       "      <td>W</td>\n",
       "      <td>1.0</td>\n",
       "      <td>7533 MORROW MILL RD ,MEBANE,NC 27302</td>\n",
       "      <td>ALAMANCE</td>\n",
       "      <td>SALEM UNITED METHODIST CHURCH</td>\n",
       "      <td>ABSENTEE ONESTOP</td>\n",
       "      <td>SOUTH THOMPSON</td>\n",
       "      <td>4924 SALEM CHURCH RD, HAW RIVER, NC 27258</td>\n",
       "      <td>35.939300</td>\n",
       "      <td>-79.268773</td>\n",
       "    </tr>\n",
       "  </tbody>\n",
       "</table>\n",
       "</div>"
      ],
      "text/plain": [
       "       ncid race_code  active  \\\n",
       "0  AA100006         W     1.0   \n",
       "1  AA100009         W     1.0   \n",
       "2  AA100029         W     1.0   \n",
       "3  AA100050         W     1.0   \n",
       "4  AA100084         W     1.0   \n",
       "\n",
       "                                             address county_desc  \\\n",
       "0                    3613 DOE LN ,HAW RIVER,NC 27258    ALAMANCE   \n",
       "1  2652 SAXAPAHAW-BETHLEHEM CHURCH RD ,GRAHAM,NC ...    ALAMANCE   \n",
       "2        3761 PHILLIPS CHAPEL RD ,HAW RIVER,NC 27258    ALAMANCE   \n",
       "3    5114 SWEPSONVILLE-SAXAPAHAW RD ,GRAHAM,NC 27253    ALAMANCE   \n",
       "4               7533 MORROW MILL RD ,MEBANE,NC 27302    ALAMANCE   \n",
       "\n",
       "              polling_place_name     voting_method        precinct  \\\n",
       "0  SALEM UNITED METHODIST CHURCH  ABSENTEE ONESTOP  SOUTH THOMPSON   \n",
       "1  SALEM UNITED METHODIST CHURCH  ABSENTEE ONESTOP  SOUTH THOMPSON   \n",
       "2  SALEM UNITED METHODIST CHURCH         IN-PERSON  SOUTH THOMPSON   \n",
       "3  SALEM UNITED METHODIST CHURCH  ABSENTEE ONESTOP  SOUTH THOMPSON   \n",
       "4  SALEM UNITED METHODIST CHURCH  ABSENTEE ONESTOP  SOUTH THOMPSON   \n",
       "\n",
       "                                poll_address   latitude  longitude  \n",
       "0  4924 SALEM CHURCH RD, HAW RIVER, NC 27258  35.998117 -79.316782  \n",
       "1  4924 SALEM CHURCH RD, HAW RIVER, NC 27258  35.958465 -79.290700  \n",
       "2  4924 SALEM CHURCH RD, HAW RIVER, NC 27258  35.994820 -79.316823  \n",
       "3  4924 SALEM CHURCH RD, HAW RIVER, NC 27258  35.972383 -79.322328  \n",
       "4  4924 SALEM CHURCH RD, HAW RIVER, NC 27258  35.939300 -79.268773  "
      ]
     },
     "execution_count": 235,
     "metadata": {},
     "output_type": "execute_result"
    }
   ],
   "source": [
    "# Removing some unnecessary columns\n",
    "df = df[['ncid', 'race_code', 'active', 'address', 'county_desc', 'polling_place_name', 'voting_method',\n",
    "        'precinct', 'poll_address', 'latitude', 'longitude']]\n",
    "df.head()"
   ]
  },
  {
   "cell_type": "markdown",
   "metadata": {},
   "source": [
    "### Adding poll_changed (can delete this section in the full py script because we'll already have this column)"
   ]
  },
  {
   "cell_type": "code",
   "execution_count": 236,
   "metadata": {},
   "outputs": [],
   "source": [
    "# Loading dataframe, dropping duplicate NCID's, and reducing to only two columns\n",
    "\n",
    "changed_poll_df = pd.read_csv('NC_combined_files.tsv', sep='\\t')\n",
    "changed_poll_df = changed_poll_df.drop_duplicates(subset=['ncid'])\n",
    "changed_poll_df = changed_poll_df[['ncid', 'poll_changed']]"
   ]
  },
  {
   "cell_type": "code",
   "execution_count": 237,
   "metadata": {},
   "outputs": [
    {
     "data": {
      "text/plain": [
       "0.05800710309710488"
      ]
     },
     "execution_count": 237,
     "metadata": {},
     "output_type": "execute_result"
    }
   ],
   "source": [
    "changed_poll_df['poll_changed'].mean()"
   ]
  },
  {
   "cell_type": "code",
   "execution_count": 238,
   "metadata": {},
   "outputs": [
    {
     "data": {
      "text/html": [
       "<div>\n",
       "<style scoped>\n",
       "    .dataframe tbody tr th:only-of-type {\n",
       "        vertical-align: middle;\n",
       "    }\n",
       "\n",
       "    .dataframe tbody tr th {\n",
       "        vertical-align: top;\n",
       "    }\n",
       "\n",
       "    .dataframe thead th {\n",
       "        text-align: right;\n",
       "    }\n",
       "</style>\n",
       "<table border=\"1\" class=\"dataframe\">\n",
       "  <thead>\n",
       "    <tr style=\"text-align: right;\">\n",
       "      <th></th>\n",
       "      <th>ncid</th>\n",
       "      <th>race_code</th>\n",
       "      <th>active</th>\n",
       "      <th>address</th>\n",
       "      <th>county_desc</th>\n",
       "      <th>polling_place_name</th>\n",
       "      <th>voting_method</th>\n",
       "      <th>precinct</th>\n",
       "      <th>poll_address</th>\n",
       "      <th>latitude</th>\n",
       "      <th>longitude</th>\n",
       "    </tr>\n",
       "  </thead>\n",
       "  <tbody>\n",
       "    <tr>\n",
       "      <th>0</th>\n",
       "      <td>AA100006</td>\n",
       "      <td>W</td>\n",
       "      <td>1.0</td>\n",
       "      <td>3613 DOE LN ,HAW RIVER,NC 27258</td>\n",
       "      <td>ALAMANCE</td>\n",
       "      <td>SALEM UNITED METHODIST CHURCH</td>\n",
       "      <td>ABSENTEE ONESTOP</td>\n",
       "      <td>SOUTH THOMPSON</td>\n",
       "      <td>4924 SALEM CHURCH RD, HAW RIVER, NC 27258</td>\n",
       "      <td>35.998117</td>\n",
       "      <td>-79.316782</td>\n",
       "    </tr>\n",
       "    <tr>\n",
       "      <th>1</th>\n",
       "      <td>AA100009</td>\n",
       "      <td>W</td>\n",
       "      <td>1.0</td>\n",
       "      <td>2652 SAXAPAHAW-BETHLEHEM CHURCH RD ,GRAHAM,NC ...</td>\n",
       "      <td>ALAMANCE</td>\n",
       "      <td>SALEM UNITED METHODIST CHURCH</td>\n",
       "      <td>ABSENTEE ONESTOP</td>\n",
       "      <td>SOUTH THOMPSON</td>\n",
       "      <td>4924 SALEM CHURCH RD, HAW RIVER, NC 27258</td>\n",
       "      <td>35.958465</td>\n",
       "      <td>-79.290700</td>\n",
       "    </tr>\n",
       "  </tbody>\n",
       "</table>\n",
       "</div>"
      ],
      "text/plain": [
       "       ncid race_code  active  \\\n",
       "0  AA100006         W     1.0   \n",
       "1  AA100009         W     1.0   \n",
       "\n",
       "                                             address county_desc  \\\n",
       "0                    3613 DOE LN ,HAW RIVER,NC 27258    ALAMANCE   \n",
       "1  2652 SAXAPAHAW-BETHLEHEM CHURCH RD ,GRAHAM,NC ...    ALAMANCE   \n",
       "\n",
       "              polling_place_name     voting_method        precinct  \\\n",
       "0  SALEM UNITED METHODIST CHURCH  ABSENTEE ONESTOP  SOUTH THOMPSON   \n",
       "1  SALEM UNITED METHODIST CHURCH  ABSENTEE ONESTOP  SOUTH THOMPSON   \n",
       "\n",
       "                                poll_address   latitude  longitude  \n",
       "0  4924 SALEM CHURCH RD, HAW RIVER, NC 27258  35.998117 -79.316782  \n",
       "1  4924 SALEM CHURCH RD, HAW RIVER, NC 27258  35.958465 -79.290700  "
      ]
     },
     "execution_count": 238,
     "metadata": {},
     "output_type": "execute_result"
    }
   ],
   "source": [
    "df.head(2)"
   ]
  },
  {
   "cell_type": "code",
   "execution_count": 239,
   "metadata": {},
   "outputs": [],
   "source": [
    "# Merging the dataframes\n",
    "df = pd.merge(df, changed_poll_df, left_on='ncid', right_on='ncid', how='inner')"
   ]
  },
  {
   "cell_type": "markdown",
   "metadata": {},
   "source": [
    "### Calculating distance"
   ]
  },
  {
   "cell_type": "markdown",
   "metadata": {},
   "source": [
    "Apparently this approximation method works well for small distances (e.g., less than 500 miles) and is very quick (100,000 calculations per second)  \n",
    "https://stackoverflow.com/questions/15736995/how-can-i-quickly-estimate-the-distance-between-two-latitude-longitude-points"
   ]
  },
  {
   "cell_type": "markdown",
   "metadata": {},
   "source": [
    "^^^ Tried a few after looking it up in Google Maps and it's directionally correct. Need to strip out the negatives for long tho, or change function. Worth doing a few more to confirm "
   ]
  },
  {
   "cell_type": "code",
   "execution_count": 242,
   "metadata": {
    "collapsed": true
   },
   "outputs": [],
   "source": [
    "def haversine(lat1, lon1, lat2, lon2):\n",
    "    \"\"\"\n",
    "    Calculate the great circle distance between two points \n",
    "    on the earth (specified in decimal degrees)\n",
    "    \"\"\"\n",
    "    # convert decimal degrees to radians \n",
    "    lon1, lat1, lon2, lat2 = map(radians, [lon1, lat1, lon2, lat2])\n",
    "    # haversine formula \n",
    "    dlon = lon2 - lon1 \n",
    "    dlat = lat2 - lat1 \n",
    "    a = sin(dlat/2)**2 + cos(lat1) * cos(lat2) * sin(dlon/2)**2\n",
    "    c = 2 * asin(sqrt(a)) \n",
    "    # Radius of earth in kilometers is 6371\n",
    "    km = 6371* c\n",
    "    miles = km*0.62\n",
    "    return miles"
   ]
  },
  {
   "cell_type": "markdown",
   "metadata": {},
   "source": [
    "#### Sorting"
   ]
  },
  {
   "cell_type": "code",
   "execution_count": 243,
   "metadata": {
    "scrolled": true
   },
   "outputs": [
    {
     "data": {
      "text/html": [
       "<div>\n",
       "<style scoped>\n",
       "    .dataframe tbody tr th:only-of-type {\n",
       "        vertical-align: middle;\n",
       "    }\n",
       "\n",
       "    .dataframe tbody tr th {\n",
       "        vertical-align: top;\n",
       "    }\n",
       "\n",
       "    .dataframe thead th {\n",
       "        text-align: right;\n",
       "    }\n",
       "</style>\n",
       "<table border=\"1\" class=\"dataframe\">\n",
       "  <thead>\n",
       "    <tr style=\"text-align: right;\">\n",
       "      <th></th>\n",
       "      <th>ncid</th>\n",
       "      <th>race_code</th>\n",
       "      <th>active</th>\n",
       "      <th>address</th>\n",
       "      <th>county_desc</th>\n",
       "      <th>polling_place_name</th>\n",
       "      <th>voting_method</th>\n",
       "      <th>precinct</th>\n",
       "      <th>poll_address</th>\n",
       "      <th>latitude</th>\n",
       "      <th>longitude</th>\n",
       "      <th>poll_changed</th>\n",
       "    </tr>\n",
       "  </thead>\n",
       "  <tbody>\n",
       "    <tr>\n",
       "      <th>930</th>\n",
       "      <td>AA109022</td>\n",
       "      <td>W</td>\n",
       "      <td>1.0</td>\n",
       "      <td>4372 CEDAR CLIFF RD ,GRAHAM,NC 27253</td>\n",
       "      <td>ALAMANCE</td>\n",
       "      <td>MT HERMON COMMUNITY CENTER</td>\n",
       "      <td>IN-PERSON</td>\n",
       "      <td>ALBRIGHT</td>\n",
       "      <td>3735 BASS MOUNTAIN RD, GRAHAM, NC 27253</td>\n",
       "      <td>35.847937</td>\n",
       "      <td>-79.392419</td>\n",
       "      <td>0</td>\n",
       "    </tr>\n",
       "    <tr>\n",
       "      <th>958</th>\n",
       "      <td>AA102856</td>\n",
       "      <td>O</td>\n",
       "      <td>1.0</td>\n",
       "      <td>1039 KELSO LN ,BURLINGTON,NC 27215</td>\n",
       "      <td>ALAMANCE</td>\n",
       "      <td>MARVIN B SMITH ELEMENTARY SCHO</td>\n",
       "      <td>ABSENTEE ONESTOP</td>\n",
       "      <td>SOUTH BOONE</td>\n",
       "      <td>2235 DELANEY DR, BURLINGTON, NC 27215</td>\n",
       "      <td>35.847937</td>\n",
       "      <td>-79.392419</td>\n",
       "      <td>0</td>\n",
       "    </tr>\n",
       "    <tr>\n",
       "      <th>937</th>\n",
       "      <td>AA110239</td>\n",
       "      <td>W</td>\n",
       "      <td>1.0</td>\n",
       "      <td>4763 MT HERMON-ROCK CREEK RD ,SNOW CAMP,NC 27349</td>\n",
       "      <td>ALAMANCE</td>\n",
       "      <td>MT HERMON COMMUNITY CENTER</td>\n",
       "      <td>IN-PERSON</td>\n",
       "      <td>ALBRIGHT</td>\n",
       "      <td>3735 BASS MOUNTAIN RD, GRAHAM, NC 27253</td>\n",
       "      <td>35.849359</td>\n",
       "      <td>-79.403678</td>\n",
       "      <td>0</td>\n",
       "    </tr>\n",
       "    <tr>\n",
       "      <th>949</th>\n",
       "      <td>AA101717</td>\n",
       "      <td>B</td>\n",
       "      <td>1.0</td>\n",
       "      <td>405 COBBLESTONE CT ,BURLINGTON,NC 27215</td>\n",
       "      <td>ALAMANCE</td>\n",
       "      <td>MARVIN B SMITH ELEMENTARY SCHO</td>\n",
       "      <td>ABSENTEE ONESTOP</td>\n",
       "      <td>SOUTH BOONE</td>\n",
       "      <td>2235 DELANEY DR, BURLINGTON, NC 27215</td>\n",
       "      <td>35.849359</td>\n",
       "      <td>-79.403678</td>\n",
       "      <td>0</td>\n",
       "    </tr>\n",
       "    <tr>\n",
       "      <th>965</th>\n",
       "      <td>AA10375</td>\n",
       "      <td>W</td>\n",
       "      <td>1.0</td>\n",
       "      <td>229 COACHLIGHT TRL ,BURLINGTON,NC 27215</td>\n",
       "      <td>ALAMANCE</td>\n",
       "      <td>MARVIN B SMITH ELEMENTARY SCHO</td>\n",
       "      <td>ABSENTEE ONESTOP</td>\n",
       "      <td>SOUTH BOONE</td>\n",
       "      <td>2235 DELANEY DR, BURLINGTON, NC 27215</td>\n",
       "      <td>35.849359</td>\n",
       "      <td>-79.403678</td>\n",
       "      <td>0</td>\n",
       "    </tr>\n",
       "  </tbody>\n",
       "</table>\n",
       "</div>"
      ],
      "text/plain": [
       "         ncid race_code  active  \\\n",
       "930  AA109022         W     1.0   \n",
       "958  AA102856         O     1.0   \n",
       "937  AA110239         W     1.0   \n",
       "949  AA101717         B     1.0   \n",
       "965   AA10375         W     1.0   \n",
       "\n",
       "                                              address county_desc  \\\n",
       "930              4372 CEDAR CLIFF RD ,GRAHAM,NC 27253    ALAMANCE   \n",
       "958                1039 KELSO LN ,BURLINGTON,NC 27215    ALAMANCE   \n",
       "937  4763 MT HERMON-ROCK CREEK RD ,SNOW CAMP,NC 27349    ALAMANCE   \n",
       "949           405 COBBLESTONE CT ,BURLINGTON,NC 27215    ALAMANCE   \n",
       "965           229 COACHLIGHT TRL ,BURLINGTON,NC 27215    ALAMANCE   \n",
       "\n",
       "                 polling_place_name     voting_method     precinct  \\\n",
       "930      MT HERMON COMMUNITY CENTER         IN-PERSON     ALBRIGHT   \n",
       "958  MARVIN B SMITH ELEMENTARY SCHO  ABSENTEE ONESTOP  SOUTH BOONE   \n",
       "937      MT HERMON COMMUNITY CENTER         IN-PERSON     ALBRIGHT   \n",
       "949  MARVIN B SMITH ELEMENTARY SCHO  ABSENTEE ONESTOP  SOUTH BOONE   \n",
       "965  MARVIN B SMITH ELEMENTARY SCHO  ABSENTEE ONESTOP  SOUTH BOONE   \n",
       "\n",
       "                                poll_address   latitude  longitude  \\\n",
       "930  3735 BASS MOUNTAIN RD, GRAHAM, NC 27253  35.847937 -79.392419   \n",
       "958    2235 DELANEY DR, BURLINGTON, NC 27215  35.847937 -79.392419   \n",
       "937  3735 BASS MOUNTAIN RD, GRAHAM, NC 27253  35.849359 -79.403678   \n",
       "949    2235 DELANEY DR, BURLINGTON, NC 27215  35.849359 -79.403678   \n",
       "965    2235 DELANEY DR, BURLINGTON, NC 27215  35.849359 -79.403678   \n",
       "\n",
       "     poll_changed  \n",
       "930             0  \n",
       "958             0  \n",
       "937             0  \n",
       "949             0  \n",
       "965             0  "
      ]
     },
     "execution_count": 243,
     "metadata": {},
     "output_type": "execute_result"
    }
   ],
   "source": [
    "# Sorting by lat and long\n",
    "df = df.sort_values(by=['latitude', 'longitude'])\n",
    "df.head()"
   ]
  },
  {
   "cell_type": "markdown",
   "metadata": {},
   "source": [
    "#### Finding 50 closest neighbors for those with new polling places"
   ]
  },
  {
   "cell_type": "code",
   "execution_count": 244,
   "metadata": {
    "collapsed": true
   },
   "outputs": [],
   "source": [
    "# Resetting index (will need to discuss how to do this part in dask) then getting indices w/ new locations\n",
    "df = df.reset_index()\n",
    "new_poll_indeces = df.index[df['poll_changed'] == 1].tolist()"
   ]
  },
  {
   "cell_type": "code",
   "execution_count": 245,
   "metadata": {
    "scrolled": false
   },
   "outputs": [
    {
     "data": {
      "text/plain": [
       "[133, 1216, 1217, 1404, 1487, 1612]"
      ]
     },
     "execution_count": 245,
     "metadata": {},
     "output_type": "execute_result"
    }
   ],
   "source": [
    "new_poll_indeces"
   ]
  },
  {
   "cell_type": "code",
   "execution_count": null,
   "metadata": {
    "collapsed": true
   },
   "outputs": [],
   "source": []
  },
  {
   "cell_type": "code",
   "execution_count": 246,
   "metadata": {},
   "outputs": [],
   "source": [
    "# Creating dataframe with NCID and indices\n",
    "def ncid_to_index ():\n",
    "    '''\n",
    "    Creates a dataframe that maps NCID to that individual's index. Used in later cleaning.\n",
    "    '''\n",
    "    ncid_list = []\n",
    "    for count, elem in enumerate (new_poll_indeces):\n",
    "        ncid_list.append(df['ncid'][count])\n",
    "\n",
    "    return pd.DataFrame({'ncid': ncid_list, 'index': new_poll_indeces})"
   ]
  },
  {
   "cell_type": "code",
   "execution_count": 247,
   "metadata": {
    "collapsed": true
   },
   "outputs": [],
   "source": [
    "ncid_to_index_df = ncid_to_index()"
   ]
  },
  {
   "cell_type": "code",
   "execution_count": 248,
   "metadata": {},
   "outputs": [
    {
     "data": {
      "text/html": [
       "<div>\n",
       "<style scoped>\n",
       "    .dataframe tbody tr th:only-of-type {\n",
       "        vertical-align: middle;\n",
       "    }\n",
       "\n",
       "    .dataframe tbody tr th {\n",
       "        vertical-align: top;\n",
       "    }\n",
       "\n",
       "    .dataframe thead th {\n",
       "        text-align: right;\n",
       "    }\n",
       "</style>\n",
       "<table border=\"1\" class=\"dataframe\">\n",
       "  <thead>\n",
       "    <tr style=\"text-align: right;\">\n",
       "      <th></th>\n",
       "      <th>ncid</th>\n",
       "      <th>index</th>\n",
       "    </tr>\n",
       "  </thead>\n",
       "  <tbody>\n",
       "    <tr>\n",
       "      <th>0</th>\n",
       "      <td>AA109022</td>\n",
       "      <td>133</td>\n",
       "    </tr>\n",
       "    <tr>\n",
       "      <th>1</th>\n",
       "      <td>AA102856</td>\n",
       "      <td>1216</td>\n",
       "    </tr>\n",
       "    <tr>\n",
       "      <th>2</th>\n",
       "      <td>AA110239</td>\n",
       "      <td>1217</td>\n",
       "    </tr>\n",
       "    <tr>\n",
       "      <th>3</th>\n",
       "      <td>AA101717</td>\n",
       "      <td>1404</td>\n",
       "    </tr>\n",
       "    <tr>\n",
       "      <th>4</th>\n",
       "      <td>AA10375</td>\n",
       "      <td>1487</td>\n",
       "    </tr>\n",
       "    <tr>\n",
       "      <th>5</th>\n",
       "      <td>AA105827</td>\n",
       "      <td>1612</td>\n",
       "    </tr>\n",
       "  </tbody>\n",
       "</table>\n",
       "</div>"
      ],
      "text/plain": [
       "       ncid  index\n",
       "0  AA109022    133\n",
       "1  AA102856   1216\n",
       "2  AA110239   1217\n",
       "3  AA101717   1404\n",
       "4   AA10375   1487\n",
       "5  AA105827   1612"
      ]
     },
     "execution_count": 248,
     "metadata": {},
     "output_type": "execute_result"
    }
   ],
   "source": [
    "ncid_to_index_df"
   ]
  },
  {
   "cell_type": "code",
   "execution_count": null,
   "metadata": {
    "collapsed": true
   },
   "outputs": [],
   "source": []
  },
  {
   "cell_type": "code",
   "execution_count": 249,
   "metadata": {
    "collapsed": true
   },
   "outputs": [],
   "source": [
    "def fifty_nearest (new_poll_indeces):\n",
    "    '''\n",
    "    Params:\n",
    "        new_poll_indices: list of indices where that voter's polling location changed \n",
    "    \n",
    "    Returns:\n",
    "        A dictionary where each key is the index of a voter whose and the \n",
    "        values is a list of indices of his 50 closest neighbors\n",
    "    \n",
    "    Note:\n",
    "        This only returns indices of neighbors who did not have their location changed, \n",
    "        and does not return the individual himself  \n",
    "    '''\n",
    "    \n",
    "    fifty_nearest_dict = {}\n",
    "\n",
    "    for elem in new_poll_indeces:\n",
    "        unfiltered_list = np.linspace(elem - 34, elem + 35, 70)\n",
    "        removed_movers_list = [elem for elem in unfiltered_list if elem not in new_poll_indeces]\n",
    "        fifty_nearest_dict[elem] = removed_movers_list[11:61]\n",
    "    \n",
    "    return fifty_nearest_dict"
   ]
  },
  {
   "cell_type": "code",
   "execution_count": null,
   "metadata": {
    "collapsed": true
   },
   "outputs": [],
   "source": []
  },
  {
   "cell_type": "code",
   "execution_count": null,
   "metadata": {
    "collapsed": true
   },
   "outputs": [],
   "source": []
  },
  {
   "cell_type": "code",
   "execution_count": 250,
   "metadata": {
    "collapsed": true
   },
   "outputs": [],
   "source": [
    "# Creating the dict\n",
    "fifty_nearest_dict = fifty_nearest(new_poll_indeces)"
   ]
  },
  {
   "cell_type": "code",
   "execution_count": 252,
   "metadata": {
    "collapsed": true
   },
   "outputs": [],
   "source": [
    "def generate_column_names ():\n",
    "    '''\n",
    "    Simple function to generate column names for the 50 closest neighbors to be used in distance matrix\n",
    "    '''\n",
    "    return [\"Neighbor\" + str(elem+1) for elem in range(50)] "
   ]
  },
  {
   "cell_type": "code",
   "execution_count": 253,
   "metadata": {
    "collapsed": true
   },
   "outputs": [],
   "source": [
    "def generate_rows ():\n",
    "    '''\n",
    "    This function creates an array of rows (each of which is another array) to eventually\n",
    "    be passed into the dataframe \n",
    "    '''\n",
    "    \n",
    "    list_of_rows = []\n",
    "    for key in fifty_nearest_dict.keys():\n",
    "\n",
    "        row_values = []\n",
    "        for elem in fifty_nearest_dict[key]:\n",
    "            row_values.append(haversine(df['latitude'][key], df['longitude'][key], df['latitude'][elem], df['longitude'][elem]))\n",
    "        list_of_rows.append(row_values)\n",
    "        row_values = []\n",
    "    \n",
    "    return list_of_rows  "
   ]
  },
  {
   "cell_type": "markdown",
   "metadata": {},
   "source": [
    "??? Is there a way to parallelize this? This is the bottleneck right now "
   ]
  },
  {
   "cell_type": "code",
   "execution_count": 254,
   "metadata": {
    "collapsed": true
   },
   "outputs": [],
   "source": [
    "# Generating the rows for the dataframe\n",
    "rows_for_df = generate_rows()\n",
    "\n",
    "# Creating the dataframe and adding a column for the initial index\n",
    "neighbor_df = pd.DataFrame(rows_for_df, columns = generate_column_names())\n",
    "neighbor_df['initial_index'] = new_poll_indeces"
   ]
  },
  {
   "cell_type": "code",
   "execution_count": 255,
   "metadata": {
    "scrolled": true
   },
   "outputs": [
    {
     "data": {
      "text/html": [
       "<div>\n",
       "<style scoped>\n",
       "    .dataframe tbody tr th:only-of-type {\n",
       "        vertical-align: middle;\n",
       "    }\n",
       "\n",
       "    .dataframe tbody tr th {\n",
       "        vertical-align: top;\n",
       "    }\n",
       "\n",
       "    .dataframe thead th {\n",
       "        text-align: right;\n",
       "    }\n",
       "</style>\n",
       "<table border=\"1\" class=\"dataframe\">\n",
       "  <thead>\n",
       "    <tr style=\"text-align: right;\">\n",
       "      <th></th>\n",
       "      <th>initial_index</th>\n",
       "      <th>Neighbor1</th>\n",
       "      <th>Neighbor2</th>\n",
       "      <th>Neighbor3</th>\n",
       "      <th>Neighbor4</th>\n",
       "      <th>Neighbor5</th>\n",
       "      <th>Neighbor6</th>\n",
       "      <th>Neighbor7</th>\n",
       "      <th>Neighbor8</th>\n",
       "      <th>Neighbor9</th>\n",
       "      <th>...</th>\n",
       "      <th>Neighbor41</th>\n",
       "      <th>Neighbor42</th>\n",
       "      <th>Neighbor43</th>\n",
       "      <th>Neighbor44</th>\n",
       "      <th>Neighbor45</th>\n",
       "      <th>Neighbor46</th>\n",
       "      <th>Neighbor47</th>\n",
       "      <th>Neighbor48</th>\n",
       "      <th>Neighbor49</th>\n",
       "      <th>Neighbor50</th>\n",
       "    </tr>\n",
       "  </thead>\n",
       "  <tbody>\n",
       "    <tr>\n",
       "      <th>0</th>\n",
       "      <td>133</td>\n",
       "      <td>0.273952</td>\n",
       "      <td>0.273952</td>\n",
       "      <td>0.173588</td>\n",
       "      <td>0.173588</td>\n",
       "      <td>2.362806</td>\n",
       "      <td>2.362806</td>\n",
       "      <td>4.524423</td>\n",
       "      <td>4.524423</td>\n",
       "      <td>0.232100</td>\n",
       "      <td>...</td>\n",
       "      <td>4.605959</td>\n",
       "      <td>2.117311</td>\n",
       "      <td>2.117311</td>\n",
       "      <td>8.764145</td>\n",
       "      <td>8.764145</td>\n",
       "      <td>9.046994</td>\n",
       "      <td>9.046994</td>\n",
       "      <td>5.537262</td>\n",
       "      <td>5.537262</td>\n",
       "      <td>5.925370</td>\n",
       "    </tr>\n",
       "    <tr>\n",
       "      <th>1</th>\n",
       "      <td>1216</td>\n",
       "      <td>0.292044</td>\n",
       "      <td>0.209853</td>\n",
       "      <td>0.209853</td>\n",
       "      <td>9.797274</td>\n",
       "      <td>9.797274</td>\n",
       "      <td>9.797274</td>\n",
       "      <td>9.797274</td>\n",
       "      <td>0.247017</td>\n",
       "      <td>0.247017</td>\n",
       "      <td>...</td>\n",
       "      <td>0.390094</td>\n",
       "      <td>1.115974</td>\n",
       "      <td>1.115974</td>\n",
       "      <td>0.677291</td>\n",
       "      <td>0.677291</td>\n",
       "      <td>0.147989</td>\n",
       "      <td>0.147989</td>\n",
       "      <td>1.468524</td>\n",
       "      <td>1.468524</td>\n",
       "      <td>0.381030</td>\n",
       "    </tr>\n",
       "    <tr>\n",
       "      <th>2</th>\n",
       "      <td>1217</td>\n",
       "      <td>0.209853</td>\n",
       "      <td>0.209853</td>\n",
       "      <td>9.797274</td>\n",
       "      <td>9.797274</td>\n",
       "      <td>9.797274</td>\n",
       "      <td>9.797274</td>\n",
       "      <td>0.247017</td>\n",
       "      <td>0.247017</td>\n",
       "      <td>9.850631</td>\n",
       "      <td>...</td>\n",
       "      <td>1.115974</td>\n",
       "      <td>1.115974</td>\n",
       "      <td>0.677291</td>\n",
       "      <td>0.677291</td>\n",
       "      <td>0.147989</td>\n",
       "      <td>0.147989</td>\n",
       "      <td>1.468524</td>\n",
       "      <td>1.468524</td>\n",
       "      <td>0.381030</td>\n",
       "      <td>0.381030</td>\n",
       "    </tr>\n",
       "    <tr>\n",
       "      <th>3</th>\n",
       "      <td>1404</td>\n",
       "      <td>3.962775</td>\n",
       "      <td>3.962775</td>\n",
       "      <td>4.197738</td>\n",
       "      <td>4.197738</td>\n",
       "      <td>2.461992</td>\n",
       "      <td>2.461992</td>\n",
       "      <td>2.461992</td>\n",
       "      <td>2.461992</td>\n",
       "      <td>0.953820</td>\n",
       "      <td>...</td>\n",
       "      <td>3.563164</td>\n",
       "      <td>3.893841</td>\n",
       "      <td>3.893841</td>\n",
       "      <td>0.289374</td>\n",
       "      <td>0.324508</td>\n",
       "      <td>3.935745</td>\n",
       "      <td>3.935745</td>\n",
       "      <td>0.239678</td>\n",
       "      <td>0.123279</td>\n",
       "      <td>4.203182</td>\n",
       "    </tr>\n",
       "    <tr>\n",
       "      <th>4</th>\n",
       "      <td>1487</td>\n",
       "      <td>3.075806</td>\n",
       "      <td>0.572968</td>\n",
       "      <td>3.608078</td>\n",
       "      <td>3.608078</td>\n",
       "      <td>3.608078</td>\n",
       "      <td>3.608078</td>\n",
       "      <td>2.783405</td>\n",
       "      <td>2.783405</td>\n",
       "      <td>9.584196</td>\n",
       "      <td>...</td>\n",
       "      <td>4.992343</td>\n",
       "      <td>2.723813</td>\n",
       "      <td>2.723813</td>\n",
       "      <td>2.723813</td>\n",
       "      <td>2.723813</td>\n",
       "      <td>9.490754</td>\n",
       "      <td>9.490754</td>\n",
       "      <td>4.444684</td>\n",
       "      <td>4.444684</td>\n",
       "      <td>2.486605</td>\n",
       "    </tr>\n",
       "  </tbody>\n",
       "</table>\n",
       "<p>5 rows × 51 columns</p>\n",
       "</div>"
      ],
      "text/plain": [
       "   initial_index  Neighbor1  Neighbor2  Neighbor3  Neighbor4  Neighbor5  \\\n",
       "0            133   0.273952   0.273952   0.173588   0.173588   2.362806   \n",
       "1           1216   0.292044   0.209853   0.209853   9.797274   9.797274   \n",
       "2           1217   0.209853   0.209853   9.797274   9.797274   9.797274   \n",
       "3           1404   3.962775   3.962775   4.197738   4.197738   2.461992   \n",
       "4           1487   3.075806   0.572968   3.608078   3.608078   3.608078   \n",
       "\n",
       "   Neighbor6  Neighbor7  Neighbor8  Neighbor9  ...  Neighbor41  Neighbor42  \\\n",
       "0   2.362806   4.524423   4.524423   0.232100  ...    4.605959    2.117311   \n",
       "1   9.797274   9.797274   0.247017   0.247017  ...    0.390094    1.115974   \n",
       "2   9.797274   0.247017   0.247017   9.850631  ...    1.115974    1.115974   \n",
       "3   2.461992   2.461992   2.461992   0.953820  ...    3.563164    3.893841   \n",
       "4   3.608078   2.783405   2.783405   9.584196  ...    4.992343    2.723813   \n",
       "\n",
       "   Neighbor43  Neighbor44  Neighbor45  Neighbor46  Neighbor47  Neighbor48  \\\n",
       "0    2.117311    8.764145    8.764145    9.046994    9.046994    5.537262   \n",
       "1    1.115974    0.677291    0.677291    0.147989    0.147989    1.468524   \n",
       "2    0.677291    0.677291    0.147989    0.147989    1.468524    1.468524   \n",
       "3    3.893841    0.289374    0.324508    3.935745    3.935745    0.239678   \n",
       "4    2.723813    2.723813    2.723813    9.490754    9.490754    4.444684   \n",
       "\n",
       "   Neighbor49  Neighbor50  \n",
       "0    5.537262    5.925370  \n",
       "1    1.468524    0.381030  \n",
       "2    0.381030    0.381030  \n",
       "3    0.123279    4.203182  \n",
       "4    4.444684    2.486605  \n",
       "\n",
       "[5 rows x 51 columns]"
      ]
     },
     "execution_count": 255,
     "metadata": {},
     "output_type": "execute_result"
    }
   ],
   "source": [
    "# Reordering columns\n",
    "cols = list(neighbor_df)\n",
    "reordered_cols = cols.insert(0, cols.pop(cols.index('initial_index')))\n",
    "neighbor_df = neighbor_df.loc[:, cols]\n",
    "neighbor_df.head()"
   ]
  },
  {
   "cell_type": "code",
   "execution_count": 256,
   "metadata": {
    "collapsed": true
   },
   "outputs": [],
   "source": [
    "# Merging with other df to get ncid column \n",
    "final_df = pd.merge(ncid_to_index_df, neighbor_df, left_on='index', right_on='initial_index', how='inner').drop(['initial_index'], axis=1)"
   ]
  },
  {
   "cell_type": "code",
   "execution_count": 257,
   "metadata": {
    "scrolled": true
   },
   "outputs": [
    {
     "data": {
      "text/html": [
       "<div>\n",
       "<style scoped>\n",
       "    .dataframe tbody tr th:only-of-type {\n",
       "        vertical-align: middle;\n",
       "    }\n",
       "\n",
       "    .dataframe tbody tr th {\n",
       "        vertical-align: top;\n",
       "    }\n",
       "\n",
       "    .dataframe thead th {\n",
       "        text-align: right;\n",
       "    }\n",
       "</style>\n",
       "<table border=\"1\" class=\"dataframe\">\n",
       "  <thead>\n",
       "    <tr style=\"text-align: right;\">\n",
       "      <th></th>\n",
       "      <th>ncid</th>\n",
       "      <th>index</th>\n",
       "      <th>Neighbor1</th>\n",
       "      <th>Neighbor2</th>\n",
       "      <th>Neighbor3</th>\n",
       "      <th>Neighbor4</th>\n",
       "      <th>Neighbor5</th>\n",
       "      <th>Neighbor6</th>\n",
       "      <th>Neighbor7</th>\n",
       "      <th>Neighbor8</th>\n",
       "      <th>...</th>\n",
       "      <th>Neighbor41</th>\n",
       "      <th>Neighbor42</th>\n",
       "      <th>Neighbor43</th>\n",
       "      <th>Neighbor44</th>\n",
       "      <th>Neighbor45</th>\n",
       "      <th>Neighbor46</th>\n",
       "      <th>Neighbor47</th>\n",
       "      <th>Neighbor48</th>\n",
       "      <th>Neighbor49</th>\n",
       "      <th>Neighbor50</th>\n",
       "    </tr>\n",
       "  </thead>\n",
       "  <tbody>\n",
       "    <tr>\n",
       "      <th>0</th>\n",
       "      <td>AA109022</td>\n",
       "      <td>133</td>\n",
       "      <td>0.273952</td>\n",
       "      <td>0.273952</td>\n",
       "      <td>0.173588</td>\n",
       "      <td>0.173588</td>\n",
       "      <td>2.362806</td>\n",
       "      <td>2.362806</td>\n",
       "      <td>4.524423</td>\n",
       "      <td>4.524423</td>\n",
       "      <td>...</td>\n",
       "      <td>4.605959</td>\n",
       "      <td>2.117311</td>\n",
       "      <td>2.117311</td>\n",
       "      <td>8.764145</td>\n",
       "      <td>8.764145</td>\n",
       "      <td>9.046994</td>\n",
       "      <td>9.046994</td>\n",
       "      <td>5.537262</td>\n",
       "      <td>5.537262</td>\n",
       "      <td>5.925370</td>\n",
       "    </tr>\n",
       "    <tr>\n",
       "      <th>1</th>\n",
       "      <td>AA102856</td>\n",
       "      <td>1216</td>\n",
       "      <td>0.292044</td>\n",
       "      <td>0.209853</td>\n",
       "      <td>0.209853</td>\n",
       "      <td>9.797274</td>\n",
       "      <td>9.797274</td>\n",
       "      <td>9.797274</td>\n",
       "      <td>9.797274</td>\n",
       "      <td>0.247017</td>\n",
       "      <td>...</td>\n",
       "      <td>0.390094</td>\n",
       "      <td>1.115974</td>\n",
       "      <td>1.115974</td>\n",
       "      <td>0.677291</td>\n",
       "      <td>0.677291</td>\n",
       "      <td>0.147989</td>\n",
       "      <td>0.147989</td>\n",
       "      <td>1.468524</td>\n",
       "      <td>1.468524</td>\n",
       "      <td>0.381030</td>\n",
       "    </tr>\n",
       "    <tr>\n",
       "      <th>2</th>\n",
       "      <td>AA110239</td>\n",
       "      <td>1217</td>\n",
       "      <td>0.209853</td>\n",
       "      <td>0.209853</td>\n",
       "      <td>9.797274</td>\n",
       "      <td>9.797274</td>\n",
       "      <td>9.797274</td>\n",
       "      <td>9.797274</td>\n",
       "      <td>0.247017</td>\n",
       "      <td>0.247017</td>\n",
       "      <td>...</td>\n",
       "      <td>1.115974</td>\n",
       "      <td>1.115974</td>\n",
       "      <td>0.677291</td>\n",
       "      <td>0.677291</td>\n",
       "      <td>0.147989</td>\n",
       "      <td>0.147989</td>\n",
       "      <td>1.468524</td>\n",
       "      <td>1.468524</td>\n",
       "      <td>0.381030</td>\n",
       "      <td>0.381030</td>\n",
       "    </tr>\n",
       "    <tr>\n",
       "      <th>3</th>\n",
       "      <td>AA101717</td>\n",
       "      <td>1404</td>\n",
       "      <td>3.962775</td>\n",
       "      <td>3.962775</td>\n",
       "      <td>4.197738</td>\n",
       "      <td>4.197738</td>\n",
       "      <td>2.461992</td>\n",
       "      <td>2.461992</td>\n",
       "      <td>2.461992</td>\n",
       "      <td>2.461992</td>\n",
       "      <td>...</td>\n",
       "      <td>3.563164</td>\n",
       "      <td>3.893841</td>\n",
       "      <td>3.893841</td>\n",
       "      <td>0.289374</td>\n",
       "      <td>0.324508</td>\n",
       "      <td>3.935745</td>\n",
       "      <td>3.935745</td>\n",
       "      <td>0.239678</td>\n",
       "      <td>0.123279</td>\n",
       "      <td>4.203182</td>\n",
       "    </tr>\n",
       "    <tr>\n",
       "      <th>4</th>\n",
       "      <td>AA10375</td>\n",
       "      <td>1487</td>\n",
       "      <td>3.075806</td>\n",
       "      <td>0.572968</td>\n",
       "      <td>3.608078</td>\n",
       "      <td>3.608078</td>\n",
       "      <td>3.608078</td>\n",
       "      <td>3.608078</td>\n",
       "      <td>2.783405</td>\n",
       "      <td>2.783405</td>\n",
       "      <td>...</td>\n",
       "      <td>4.992343</td>\n",
       "      <td>2.723813</td>\n",
       "      <td>2.723813</td>\n",
       "      <td>2.723813</td>\n",
       "      <td>2.723813</td>\n",
       "      <td>9.490754</td>\n",
       "      <td>9.490754</td>\n",
       "      <td>4.444684</td>\n",
       "      <td>4.444684</td>\n",
       "      <td>2.486605</td>\n",
       "    </tr>\n",
       "    <tr>\n",
       "      <th>5</th>\n",
       "      <td>AA105827</td>\n",
       "      <td>1612</td>\n",
       "      <td>9.980911</td>\n",
       "      <td>9.980911</td>\n",
       "      <td>3.362701</td>\n",
       "      <td>3.362701</td>\n",
       "      <td>5.364712</td>\n",
       "      <td>5.364712</td>\n",
       "      <td>2.378135</td>\n",
       "      <td>2.378135</td>\n",
       "      <td>...</td>\n",
       "      <td>5.244073</td>\n",
       "      <td>5.244073</td>\n",
       "      <td>9.954029</td>\n",
       "      <td>9.954029</td>\n",
       "      <td>9.843871</td>\n",
       "      <td>9.843871</td>\n",
       "      <td>10.057163</td>\n",
       "      <td>10.057163</td>\n",
       "      <td>4.415089</td>\n",
       "      <td>4.415089</td>\n",
       "    </tr>\n",
       "  </tbody>\n",
       "</table>\n",
       "<p>6 rows × 52 columns</p>\n",
       "</div>"
      ],
      "text/plain": [
       "       ncid  index  Neighbor1  Neighbor2  Neighbor3  Neighbor4  Neighbor5  \\\n",
       "0  AA109022    133   0.273952   0.273952   0.173588   0.173588   2.362806   \n",
       "1  AA102856   1216   0.292044   0.209853   0.209853   9.797274   9.797274   \n",
       "2  AA110239   1217   0.209853   0.209853   9.797274   9.797274   9.797274   \n",
       "3  AA101717   1404   3.962775   3.962775   4.197738   4.197738   2.461992   \n",
       "4   AA10375   1487   3.075806   0.572968   3.608078   3.608078   3.608078   \n",
       "5  AA105827   1612   9.980911   9.980911   3.362701   3.362701   5.364712   \n",
       "\n",
       "   Neighbor6  Neighbor7  Neighbor8  ...  Neighbor41  Neighbor42  Neighbor43  \\\n",
       "0   2.362806   4.524423   4.524423  ...    4.605959    2.117311    2.117311   \n",
       "1   9.797274   9.797274   0.247017  ...    0.390094    1.115974    1.115974   \n",
       "2   9.797274   0.247017   0.247017  ...    1.115974    1.115974    0.677291   \n",
       "3   2.461992   2.461992   2.461992  ...    3.563164    3.893841    3.893841   \n",
       "4   3.608078   2.783405   2.783405  ...    4.992343    2.723813    2.723813   \n",
       "5   5.364712   2.378135   2.378135  ...    5.244073    5.244073    9.954029   \n",
       "\n",
       "   Neighbor44  Neighbor45  Neighbor46  Neighbor47  Neighbor48  Neighbor49  \\\n",
       "0    8.764145    8.764145    9.046994    9.046994    5.537262    5.537262   \n",
       "1    0.677291    0.677291    0.147989    0.147989    1.468524    1.468524   \n",
       "2    0.677291    0.147989    0.147989    1.468524    1.468524    0.381030   \n",
       "3    0.289374    0.324508    3.935745    3.935745    0.239678    0.123279   \n",
       "4    2.723813    2.723813    9.490754    9.490754    4.444684    4.444684   \n",
       "5    9.954029    9.843871    9.843871   10.057163   10.057163    4.415089   \n",
       "\n",
       "   Neighbor50  \n",
       "0    5.925370  \n",
       "1    0.381030  \n",
       "2    0.381030  \n",
       "3    4.203182  \n",
       "4    2.486605  \n",
       "5    4.415089  \n",
       "\n",
       "[6 rows x 52 columns]"
      ]
     },
     "execution_count": 257,
     "metadata": {},
     "output_type": "execute_result"
    }
   ],
   "source": [
    "final_df"
   ]
  },
  {
   "cell_type": "markdown",
   "metadata": {},
   "source": [
    "This shows that it seemed to work as expected. On average, the middle neighbors should be the closest and the outside neighbors should be farther away:     "
   ]
  },
  {
   "cell_type": "code",
   "execution_count": 264,
   "metadata": {},
   "outputs": [
    {
     "name": "stdout",
     "output_type": "stream",
     "text": [
      "2.9658902548323627\n",
      "1.2758355707118147\n",
      "1.976985061971191\n",
      "3.869305935609075\n"
     ]
    }
   ],
   "source": [
    "print (neighbor_df['Neighbor1'].mean())\n",
    "print (neighbor_df['Neighbor24'].mean())\n",
    "print (neighbor_df['Neighbor25'].mean())\n",
    "print (neighbor_df['Neighbor48'].mean())"
   ]
  },
  {
   "cell_type": "markdown",
   "metadata": {},
   "source": [
    "Would also be good to plot average distance from 1-50 and make sure it goes down towards the middle"
   ]
  },
  {
   "cell_type": "markdown",
   "metadata": {},
   "source": [
    "**One other note**: We'll need to pull from the fifty_nearest_neighbors dict after we do the filtering/get control sets, to know whether those people voted or not. For example, if we want to know whether AA109022's neighbor 4 voted, we'll have to get elem[3] from AA109022's list in that dict and map it back.      "
   ]
  }
 ],
 "metadata": {
  "kernelspec": {
   "display_name": "Python 3",
   "language": "python",
   "name": "python3"
  },
  "language_info": {
   "codemirror_mode": {
    "name": "ipython",
    "version": 3
   },
   "file_extension": ".py",
   "mimetype": "text/x-python",
   "name": "python",
   "nbconvert_exporter": "python",
   "pygments_lexer": "ipython3",
   "version": "3.6.1"
  },
  "toc": {
   "base_numbering": 1,
   "nav_menu": {},
   "number_sections": false,
   "sideBar": true,
   "skip_h1_title": false,
   "title_cell": "Table of Contents",
   "title_sidebar": "Contents",
   "toc_cell": true,
   "toc_position": {},
   "toc_section_display": true,
   "toc_window_display": false
  }
 },
 "nbformat": 4,
 "nbformat_minor": 2
}
