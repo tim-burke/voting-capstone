{
 "cells": [
  {
   "cell_type": "markdown",
   "metadata": {
    "toc": true
   },
   "source": [
    "<h1>Table of Contents<span class=\"tocSkip\"></span></h1>\n",
    "<div class=\"toc\"><ul class=\"toc-item\"><li><span><a href=\"#NC-Data-Prototyping\" data-toc-modified-id=\"NC-Data-Prototyping-1\">NC Data Prototyping</a></span><ul class=\"toc-item\"><li><span><a href=\"#Loading-the-data\" data-toc-modified-id=\"Loading-the-data-1.1\">Loading the data</a></span><ul class=\"toc-item\"><li><ul class=\"toc-item\"><li><span><a href=\"#Current-voter-list\" data-toc-modified-id=\"Current-voter-list-1.1.0.1\">Current voter list</a></span></li><li><span><a href=\"#Voter-history\" data-toc-modified-id=\"Voter-history-1.1.0.2\">Voter history</a></span></li></ul></li><li><span><a href=\"#Joining-dataframes\" data-toc-modified-id=\"Joining-dataframes-1.1.1\">Joining dataframes</a></span></li><li><span><a href=\"#Still-need-to-figure-out:\" data-toc-modified-id=\"Still-need-to-figure-out:-1.1.2\">Still need to figure out:</a></span></li></ul></li><li><span><a href=\"#New-approach-for-distance-calculation\" data-toc-modified-id=\"New-approach-for-distance-calculation-1.2\">New approach for distance calculation</a></span></li></ul></li></ul></div>"
   ]
  },
  {
   "cell_type": "markdown",
   "metadata": {},
   "source": [
    "# NC Data Prototyping"
   ]
  },
  {
   "cell_type": "markdown",
   "metadata": {},
   "source": [
    "## Loading the data"
   ]
  },
  {
   "cell_type": "code",
   "execution_count": 1006,
   "metadata": {
    "collapsed": true
   },
   "outputs": [],
   "source": [
    "# imports\n",
    "import dask.dataframe as dd\n",
    "import numpy as np\n",
    "import pandas as pd\n",
    "import re"
   ]
  },
  {
   "cell_type": "markdown",
   "metadata": {},
   "source": [
    "There are two data files: \n",
    " - voter (info about the voter)\n",
    " - voterhistory (whether or not they voted)"
   ]
  },
  {
   "cell_type": "markdown",
   "metadata": {},
   "source": [
    "#### Current voter list"
   ]
  },
  {
   "cell_type": "markdown",
   "metadata": {},
   "source": [
    "The data is a 3.2GB text file that is tsv. It takes forever to load the full thing, so I'm only loading the first 100,000 rows for now. Note - I also shuffled the order of the rows to make sure I'm not missing systematic errors that are only happening in one place.   "
   ]
  },
  {
   "cell_type": "code",
   "execution_count": 1007,
   "metadata": {},
   "outputs": [
    {
     "data": {
      "text/html": [
       "<div>\n",
       "<style>\n",
       "    .dataframe thead tr:only-child th {\n",
       "        text-align: right;\n",
       "    }\n",
       "\n",
       "    .dataframe thead th {\n",
       "        text-align: left;\n",
       "    }\n",
       "\n",
       "    .dataframe tbody tr th {\n",
       "        vertical-align: top;\n",
       "    }\n",
       "</style>\n",
       "<table border=\"1\" class=\"dataframe\">\n",
       "  <thead>\n",
       "    <tr style=\"text-align: right;\">\n",
       "      <th></th>\n",
       "      <th>county_id</th>\n",
       "      <th>county_desc</th>\n",
       "      <th>voter_reg_num</th>\n",
       "      <th>status_cd</th>\n",
       "      <th>voter_status_desc</th>\n",
       "      <th>reason_cd</th>\n",
       "      <th>voter_status_reason_desc</th>\n",
       "      <th>absent_ind</th>\n",
       "      <th>name_prefx_cd</th>\n",
       "      <th>last_name</th>\n",
       "      <th>...</th>\n",
       "      <th>munic_dist_desc</th>\n",
       "      <th>dist_1_abbrv</th>\n",
       "      <th>dist_1_desc</th>\n",
       "      <th>dist_2_abbrv</th>\n",
       "      <th>dist_2_desc</th>\n",
       "      <th>confidential_ind</th>\n",
       "      <th>birth_year</th>\n",
       "      <th>ncid</th>\n",
       "      <th>vtd_abbrv</th>\n",
       "      <th>vtd_desc</th>\n",
       "    </tr>\n",
       "  </thead>\n",
       "  <tbody>\n",
       "    <tr>\n",
       "      <th>85117</th>\n",
       "      <td>1</td>\n",
       "      <td>ALAMANCE</td>\n",
       "      <td>9106230</td>\n",
       "      <td>R</td>\n",
       "      <td>REMOVED</td>\n",
       "      <td>RD</td>\n",
       "      <td>DECEASED</td>\n",
       "      <td></td>\n",
       "      <td></td>\n",
       "      <td>SAYERS</td>\n",
       "      <td>...</td>\n",
       "      <td>NaN</td>\n",
       "      <td>NaN</td>\n",
       "      <td>NaN</td>\n",
       "      <td></td>\n",
       "      <td></td>\n",
       "      <td>N</td>\n",
       "      <td>1945</td>\n",
       "      <td>AX48629</td>\n",
       "      <td>NaN</td>\n",
       "      <td>NaN</td>\n",
       "    </tr>\n",
       "    <tr>\n",
       "      <th>10661</th>\n",
       "      <td>1</td>\n",
       "      <td>ALAMANCE</td>\n",
       "      <td>9098964</td>\n",
       "      <td>A</td>\n",
       "      <td>ACTIVE</td>\n",
       "      <td>AV</td>\n",
       "      <td>VERIFIED</td>\n",
       "      <td></td>\n",
       "      <td></td>\n",
       "      <td>BRIDGES</td>\n",
       "      <td>...</td>\n",
       "      <td>BURLINGTON</td>\n",
       "      <td>17.0</td>\n",
       "      <td>17TH PROSECUTORIAL</td>\n",
       "      <td></td>\n",
       "      <td></td>\n",
       "      <td>N</td>\n",
       "      <td>1955</td>\n",
       "      <td>AA147731</td>\n",
       "      <td>03S</td>\n",
       "      <td>03S</td>\n",
       "    </tr>\n",
       "    <tr>\n",
       "      <th>92880</th>\n",
       "      <td>1</td>\n",
       "      <td>ALAMANCE</td>\n",
       "      <td>9102014</td>\n",
       "      <td>I</td>\n",
       "      <td>INACTIVE</td>\n",
       "      <td>IU</td>\n",
       "      <td>CONFIRMATION RETURNED UNDELIVERABLE</td>\n",
       "      <td></td>\n",
       "      <td></td>\n",
       "      <td>STRADER</td>\n",
       "      <td>...</td>\n",
       "      <td>BURLINGTON</td>\n",
       "      <td>17.0</td>\n",
       "      <td>17TH PROSECUTORIAL</td>\n",
       "      <td></td>\n",
       "      <td></td>\n",
       "      <td>N</td>\n",
       "      <td>1977</td>\n",
       "      <td>BL319567</td>\n",
       "      <td>03S</td>\n",
       "      <td>03S</td>\n",
       "    </tr>\n",
       "  </tbody>\n",
       "</table>\n",
       "<p>3 rows × 71 columns</p>\n",
       "</div>"
      ],
      "text/plain": [
       "       county_id county_desc  voter_reg_num status_cd voter_status_desc  \\\n",
       "85117          1    ALAMANCE        9106230         R           REMOVED   \n",
       "10661          1    ALAMANCE        9098964         A            ACTIVE   \n",
       "92880          1    ALAMANCE        9102014         I          INACTIVE   \n",
       "\n",
       "      reason_cd             voter_status_reason_desc absent_ind name_prefx_cd  \\\n",
       "85117        RD                             DECEASED                            \n",
       "10661        AV                             VERIFIED                            \n",
       "92880        IU  CONFIRMATION RETURNED UNDELIVERABLE                            \n",
       "\n",
       "      last_name   ...    munic_dist_desc dist_1_abbrv         dist_1_desc  \\\n",
       "85117    SAYERS   ...                NaN          NaN                 NaN   \n",
       "10661   BRIDGES   ...         BURLINGTON         17.0  17TH PROSECUTORIAL   \n",
       "92880   STRADER   ...         BURLINGTON         17.0  17TH PROSECUTORIAL   \n",
       "\n",
       "      dist_2_abbrv dist_2_desc confidential_ind  birth_year      ncid  \\\n",
       "85117                                         N        1945   AX48629   \n",
       "10661                                         N        1955  AA147731   \n",
       "92880                                         N        1977  BL319567   \n",
       "\n",
       "      vtd_abbrv vtd_desc  \n",
       "85117       NaN      NaN  \n",
       "10661       03S      03S  \n",
       "92880       03S      03S  \n",
       "\n",
       "[3 rows x 71 columns]"
      ]
     },
     "execution_count": 1007,
     "metadata": {},
     "output_type": "execute_result"
    }
   ],
   "source": [
    "voter = pd.read_csv('ncvoter.txt', sep='\\t', encoding = \"ISO-8859-1\", nrows=100000).sample(frac=1)\n",
    "voter.head(3)"
   ]
  },
  {
   "cell_type": "markdown",
   "metadata": {},
   "source": [
    "#### Voter history"
   ]
  },
  {
   "cell_type": "code",
   "execution_count": 1008,
   "metadata": {
    "scrolled": true
   },
   "outputs": [
    {
     "data": {
      "text/html": [
       "<div>\n",
       "<style>\n",
       "    .dataframe thead tr:only-child th {\n",
       "        text-align: right;\n",
       "    }\n",
       "\n",
       "    .dataframe thead th {\n",
       "        text-align: left;\n",
       "    }\n",
       "\n",
       "    .dataframe tbody tr th {\n",
       "        vertical-align: top;\n",
       "    }\n",
       "</style>\n",
       "<table border=\"1\" class=\"dataframe\">\n",
       "  <thead>\n",
       "    <tr style=\"text-align: right;\">\n",
       "      <th></th>\n",
       "      <th>county_id</th>\n",
       "      <th>county_desc</th>\n",
       "      <th>voter_reg_num</th>\n",
       "      <th>election_lbl</th>\n",
       "      <th>election_desc</th>\n",
       "      <th>voting_method</th>\n",
       "      <th>voted_party_cd</th>\n",
       "      <th>voted_party_desc</th>\n",
       "      <th>pct_label</th>\n",
       "      <th>pct_description</th>\n",
       "      <th>ncid</th>\n",
       "      <th>voted_county_id</th>\n",
       "      <th>voted_county_desc</th>\n",
       "      <th>vtd_label</th>\n",
       "      <th>vtd_description</th>\n",
       "    </tr>\n",
       "  </thead>\n",
       "  <tbody>\n",
       "    <tr>\n",
       "      <th>138198</th>\n",
       "      <td>89</td>\n",
       "      <td>TYRRELL</td>\n",
       "      <td>5078</td>\n",
       "      <td>11/08/2016</td>\n",
       "      <td>11/08/2016 GENERAL</td>\n",
       "      <td>ABSENTEE ONESTOP</td>\n",
       "      <td>UNA</td>\n",
       "      <td>UNAFFILIATED</td>\n",
       "      <td>2</td>\n",
       "      <td>COLUMBIA</td>\n",
       "      <td>AA151516</td>\n",
       "      <td>89</td>\n",
       "      <td>TYRRELL</td>\n",
       "      <td>2</td>\n",
       "      <td>2</td>\n",
       "    </tr>\n",
       "    <tr>\n",
       "      <th>60431</th>\n",
       "      <td>1</td>\n",
       "      <td>ALAMANCE</td>\n",
       "      <td>9076366</td>\n",
       "      <td>11/06/2012</td>\n",
       "      <td>11/06/2012 GENERAL</td>\n",
       "      <td>ABSENTEE ONESTOP</td>\n",
       "      <td>REP</td>\n",
       "      <td>REPUBLICAN</td>\n",
       "      <td>09N</td>\n",
       "      <td>NORTH THOMPSON</td>\n",
       "      <td>AA125584</td>\n",
       "      <td>1</td>\n",
       "      <td>ALAMANCE</td>\n",
       "      <td>09N</td>\n",
       "      <td>09N</td>\n",
       "    </tr>\n",
       "    <tr>\n",
       "      <th>96978</th>\n",
       "      <td>1</td>\n",
       "      <td>ALAMANCE</td>\n",
       "      <td>9088485</td>\n",
       "      <td>07/17/2012</td>\n",
       "      <td>07/17/2012 SECOND PRIMARY</td>\n",
       "      <td>IN-PERSON</td>\n",
       "      <td>REP</td>\n",
       "      <td>REPUBLICAN</td>\n",
       "      <td>10N</td>\n",
       "      <td>NORTH MELVILLE</td>\n",
       "      <td>AA137703</td>\n",
       "      <td>1</td>\n",
       "      <td>ALAMANCE</td>\n",
       "      <td>10N</td>\n",
       "      <td>10N</td>\n",
       "    </tr>\n",
       "  </tbody>\n",
       "</table>\n",
       "</div>"
      ],
      "text/plain": [
       "        county_id county_desc  voter_reg_num election_lbl  \\\n",
       "138198         89     TYRRELL           5078   11/08/2016   \n",
       "60431           1    ALAMANCE        9076366   11/06/2012   \n",
       "96978           1    ALAMANCE        9088485   07/17/2012   \n",
       "\n",
       "                    election_desc     voting_method voted_party_cd  \\\n",
       "138198         11/08/2016 GENERAL  ABSENTEE ONESTOP            UNA   \n",
       "60431          11/06/2012 GENERAL  ABSENTEE ONESTOP            REP   \n",
       "96978   07/17/2012 SECOND PRIMARY         IN-PERSON            REP   \n",
       "\n",
       "       voted_party_desc pct_label pct_description      ncid  voted_county_id  \\\n",
       "138198     UNAFFILIATED         2        COLUMBIA  AA151516               89   \n",
       "60431        REPUBLICAN       09N  NORTH THOMPSON  AA125584                1   \n",
       "96978        REPUBLICAN       10N  NORTH MELVILLE  AA137703                1   \n",
       "\n",
       "       voted_county_desc vtd_label vtd_description  \n",
       "138198           TYRRELL         2               2  \n",
       "60431           ALAMANCE       09N             09N  \n",
       "96978           ALAMANCE       10N             10N  "
      ]
     },
     "execution_count": 1008,
     "metadata": {},
     "output_type": "execute_result"
    }
   ],
   "source": [
    "vhis_unfiltered = pd.read_csv('ncvhis.txt', sep='\\t', encoding = \"ISO-8859-1\", nrows=200000).sample(frac=1)\n",
    "vhis_unfiltered.head(3)"
   ]
  },
  {
   "cell_type": "code",
   "execution_count": 1009,
   "metadata": {
    "collapsed": true
   },
   "outputs": [],
   "source": [
    "# Filtering to only include 2012 and 2016 general elections\n",
    "vhis_2012 = vhis_unfiltered[vhis_unfiltered['election_desc'] == '11/06/2012 GENERAL']\n",
    "vhis_2016 = vhis_unfiltered[vhis_unfiltered['election_desc'] == '11/08/2016 GENERAL']"
   ]
  },
  {
   "cell_type": "markdown",
   "metadata": {},
   "source": [
    "##### 2012 voter history data"
   ]
  },
  {
   "cell_type": "code",
   "execution_count": 1010,
   "metadata": {
    "collapsed": true
   },
   "outputs": [],
   "source": [
    "# Left joining the tables (have to join it first with 2012 voter history first, and then with 2016)\n",
    "joined_2012 = pd.merge(voter, vhis_2012, on='voter_reg_num', how='left')"
   ]
  },
  {
   "cell_type": "code",
   "execution_count": 1011,
   "metadata": {},
   "outputs": [],
   "source": [
    "# Filtering out unnecessary columns\n",
    "joined_2012 = joined_2012[['voter_reg_num', 'voter_status_desc', 'res_street_address', \n",
    "                          'res_city_desc', 'state_cd', 'zip_code', 'race_code', 'voting_method', \n",
    "                          'precinct_abbrv', 'precinct_desc', 'vtd_label']]"
   ]
  },
  {
   "cell_type": "code",
   "execution_count": 1012,
   "metadata": {
    "collapsed": true
   },
   "outputs": [],
   "source": [
    "# Renaming columns  \n",
    "joined_2012 = joined_2012.rename(columns = {'voting_method': '2012_voting_method',\n",
    "                                 'precinct_abbrv': '2016_pct_assignment_abbrv',\n",
    "                                 'precinct_desc': '2016_pct_assignment_desc'})"
   ]
  },
  {
   "cell_type": "markdown",
   "metadata": {},
   "source": [
    "##### 2016 voter history data"
   ]
  },
  {
   "cell_type": "code",
   "execution_count": 1013,
   "metadata": {
    "collapsed": true
   },
   "outputs": [],
   "source": [
    "# Joining the 2012/voter data with the 2016 data \n",
    "joined_2016 = pd.merge(joined_2012, vhis_2016, on='voter_reg_num', how='left')"
   ]
  },
  {
   "cell_type": "code",
   "execution_count": 1014,
   "metadata": {
    "collapsed": true
   },
   "outputs": [],
   "source": [
    "# Renaming columns from 2016\n",
    "joined_2016 = joined_2016.rename(columns = {'pct_description': '2016_pct_name',\n",
    "                                 'vtd_label': '2016_pct_code',\n",
    "                                    'voting_method': '2016_voting_method'})"
   ]
  },
  {
   "cell_type": "code",
   "execution_count": 1015,
   "metadata": {},
   "outputs": [],
   "source": [
    "# Filtering to necessary columns\n",
    "df = joined_2016[['voter_reg_num', 'voter_status_desc', 'res_street_address',\n",
    "       'res_city_desc', 'state_cd', 'zip_code', 'race_code', '2016_pct_assignment_abbrv', \n",
    "       '2016_pct_assignment_desc', '2012_voting_method', '2016_voting_method']]"
   ]
  },
  {
   "cell_type": "markdown",
   "metadata": {},
   "source": [
    "##### Adding 2012 voter history data"
   ]
  },
  {
   "cell_type": "code",
   "execution_count": 1016,
   "metadata": {
    "collapsed": true
   },
   "outputs": [],
   "source": [
    "# Load everything into dask, filter there, then export to pandas?"
   ]
  },
  {
   "cell_type": "code",
   "execution_count": 1017,
   "metadata": {
    "scrolled": true
   },
   "outputs": [
    {
     "data": {
      "text/html": [
       "<div>\n",
       "<style>\n",
       "    .dataframe thead tr:only-child th {\n",
       "        text-align: right;\n",
       "    }\n",
       "\n",
       "    .dataframe thead th {\n",
       "        text-align: left;\n",
       "    }\n",
       "\n",
       "    .dataframe tbody tr th {\n",
       "        vertical-align: top;\n",
       "    }\n",
       "</style>\n",
       "<table border=\"1\" class=\"dataframe\">\n",
       "  <thead>\n",
       "    <tr style=\"text-align: right;\">\n",
       "      <th></th>\n",
       "      <th>snapshot_dt</th>\n",
       "      <th>county_id</th>\n",
       "      <th>county_desc</th>\n",
       "      <th>voter_reg_num</th>\n",
       "      <th>ncid</th>\n",
       "      <th>status_cd</th>\n",
       "      <th>voter_status_desc</th>\n",
       "      <th>reason_cd</th>\n",
       "      <th>voter_status_reason_desc</th>\n",
       "      <th>absent_ind</th>\n",
       "      <th>...</th>\n",
       "      <th>dist_1_abbrv</th>\n",
       "      <th>dist_1_desc</th>\n",
       "      <th>dist_2_abbrv</th>\n",
       "      <th>dist_2_desc</th>\n",
       "      <th>confidential_ind</th>\n",
       "      <th>cancellation_dt</th>\n",
       "      <th>vtd_abbrv</th>\n",
       "      <th>vtd_desc</th>\n",
       "      <th>load_dt</th>\n",
       "      <th>age_group</th>\n",
       "    </tr>\n",
       "  </thead>\n",
       "  <tbody>\n",
       "    <tr>\n",
       "      <th>193967</th>\n",
       "      <td>2012-11-06</td>\n",
       "      <td>10</td>\n",
       "      <td>BRUNSWICK</td>\n",
       "      <td>11031</td>\n",
       "      <td>AK11282</td>\n",
       "      <td>R</td>\n",
       "      <td>REMOVED</td>\n",
       "      <td>RP</td>\n",
       "      <td>REMOVED UNDER OLD PURGE LAW</td>\n",
       "      <td></td>\n",
       "      <td>...</td>\n",
       "      <td></td>\n",
       "      <td>NaN</td>\n",
       "      <td></td>\n",
       "      <td>NaN</td>\n",
       "      <td>N</td>\n",
       "      <td>NaN</td>\n",
       "      <td></td>\n",
       "      <td>NaN</td>\n",
       "      <td>2012-12-11</td>\n",
       "      <td>Age 41 - 65</td>\n",
       "    </tr>\n",
       "    <tr>\n",
       "      <th>106983</th>\n",
       "      <td>2012-11-06</td>\n",
       "      <td>1</td>\n",
       "      <td>ALAMANCE</td>\n",
       "      <td>3626100</td>\n",
       "      <td>AA24922</td>\n",
       "      <td>R</td>\n",
       "      <td>REMOVED</td>\n",
       "      <td>RD</td>\n",
       "      <td>DECEASED</td>\n",
       "      <td></td>\n",
       "      <td>...</td>\n",
       "      <td></td>\n",
       "      <td>NaN</td>\n",
       "      <td></td>\n",
       "      <td>NaN</td>\n",
       "      <td>N</td>\n",
       "      <td>NaN</td>\n",
       "      <td></td>\n",
       "      <td>NaN</td>\n",
       "      <td>2012-12-11</td>\n",
       "      <td>Age 41 - 65</td>\n",
       "    </tr>\n",
       "    <tr>\n",
       "      <th>184179</th>\n",
       "      <td>2012-11-06</td>\n",
       "      <td>1</td>\n",
       "      <td>ALAMANCE</td>\n",
       "      <td>5009400</td>\n",
       "      <td>AA33663</td>\n",
       "      <td>A</td>\n",
       "      <td>ACTIVE</td>\n",
       "      <td>AV</td>\n",
       "      <td>VERIFIED</td>\n",
       "      <td></td>\n",
       "      <td>...</td>\n",
       "      <td>15A</td>\n",
       "      <td>15A PROSECUTORIAL</td>\n",
       "      <td></td>\n",
       "      <td>NaN</td>\n",
       "      <td>N</td>\n",
       "      <td>NaN</td>\n",
       "      <td>035</td>\n",
       "      <td>035</td>\n",
       "      <td>2012-12-11</td>\n",
       "      <td>Age Over 66</td>\n",
       "    </tr>\n",
       "  </tbody>\n",
       "</table>\n",
       "<p>3 rows × 90 columns</p>\n",
       "</div>"
      ],
      "text/plain": [
       "       snapshot_dt  county_id county_desc  voter_reg_num     ncid status_cd  \\\n",
       "193967  2012-11-06         10   BRUNSWICK          11031  AK11282        R    \n",
       "106983  2012-11-06          1    ALAMANCE        3626100  AA24922        R    \n",
       "184179  2012-11-06          1    ALAMANCE        5009400  AA33663        A    \n",
       "\n",
       "       voter_status_desc reason_cd     voter_status_reason_desc absent_ind  \\\n",
       "193967           REMOVED        RP  REMOVED UNDER OLD PURGE LAW              \n",
       "106983           REMOVED        RD                     DECEASED              \n",
       "184179            ACTIVE        AV                     VERIFIED              \n",
       "\n",
       "           ...      dist_1_abbrv        dist_1_desc dist_2_abbrv dist_2_desc  \\\n",
       "193967     ...                                  NaN                      NaN   \n",
       "106983     ...                                  NaN                      NaN   \n",
       "184179     ...            15A     15A PROSECUTORIAL                      NaN   \n",
       "\n",
       "       confidential_ind  cancellation_dt vtd_abbrv vtd_desc     load_dt  \\\n",
       "193967                N              NaN                NaN  2012-12-11   \n",
       "106983                N              NaN                NaN  2012-12-11   \n",
       "184179                N              NaN    035         035  2012-12-11   \n",
       "\n",
       "          age_group  \n",
       "193967  Age 41 - 65  \n",
       "106983  Age 41 - 65  \n",
       "184179  Age Over 66  \n",
       "\n",
       "[3 rows x 90 columns]"
      ]
     },
     "execution_count": 1017,
     "metadata": {},
     "output_type": "execute_result"
    }
   ],
   "source": [
    "voter_2012 = pd.read_csv('VR_Snapshot_20121106.txt', sep='\\t', \n",
    "                         encoding = \"UTF-16\", nrows=200000, low_memory=False).sample(frac=1)\n",
    "voter_2012.head(3)"
   ]
  },
  {
   "cell_type": "code",
   "execution_count": 1018,
   "metadata": {},
   "outputs": [],
   "source": [
    "# Filtering to necessary columns\n",
    "\n",
    "voter_2012 = voter_2012[['voter_reg_num', 'voter_status_desc', 'house_num','street_dir', \n",
    "            'street_name', 'street_type_cd', 'res_city_desc', 'state_cd', 'zip_code', \n",
    "            'precinct_abbrv', 'precinct_desc']]"
   ]
  },
  {
   "cell_type": "code",
   "execution_count": 1019,
   "metadata": {
    "collapsed": true
   },
   "outputs": [],
   "source": [
    "# Getting rid of people who weren't registered in 2012  \n",
    "voter_2012 = voter_2012[voter_2012['precinct_desc'].notnull()]"
   ]
  },
  {
   "cell_type": "code",
   "execution_count": 1020,
   "metadata": {
    "collapsed": true
   },
   "outputs": [],
   "source": [
    "def address_fixer (df):\n",
    "    \"\"\"Takes a dataframe with address spread across multiple columns and creates a new\n",
    "    column with the full, combined address\"\"\"\n",
    "    \n",
    "    \n",
    "    house_number = str(df['house_num'])\n",
    "    direction = df['street_dir']\n",
    "    street_name = df['street_name']\n",
    "    street_type = df['street_type_cd']  \n",
    "\n",
    "    unstripped_address = '{} {} {} {}'.format(house_number, direction, street_name, street_type)\n",
    "    address = re.sub('\\s+', ' ', unstripped_address).strip()\n",
    "    return address    "
   ]
  },
  {
   "cell_type": "code",
   "execution_count": 1021,
   "metadata": {
    "collapsed": true
   },
   "outputs": [],
   "source": [
    "# Removing some unnecessary columns\n",
    "voter_2012 = voter_2012[['voter_reg_num', 'house_num', 'res_city_desc',\n",
    "                       'state_cd', 'zip_code', 'precinct_abbrv', 'precinct_desc']]"
   ]
  },
  {
   "cell_type": "code",
   "execution_count": 1022,
   "metadata": {},
   "outputs": [],
   "source": [
    "voter_2012 = voter_2012.rename(columns = {'house_num': '2012_house_num', \n",
    "                               'precinct_abbrv': '2012_pct_assignment_abbrv', \n",
    "                               'precinct_desc': '2012_pct_assignment_desc'}, )"
   ]
  },
  {
   "cell_type": "markdown",
   "metadata": {},
   "source": [
    "### Joining dataframes"
   ]
  },
  {
   "cell_type": "code",
   "execution_count": 1023,
   "metadata": {},
   "outputs": [],
   "source": [
    "def house_num_finder (df):\n",
    "    \n",
    "    \"\"\"Extracts only the house number from an address (since this is easier to match \n",
    "    on to check is someone moved). First checks to make sure it's for an active record\"\"\" \n",
    "    \n",
    "    if df['voter_status_desc'] == 'ACTIVE': \n",
    "        full_address = df['res_street_address'] \n",
    "        return int(re.findall('\\d+', full_address)[0])"
   ]
  },
  {
   "cell_type": "code",
   "execution_count": 1024,
   "metadata": {
    "scrolled": true
   },
   "outputs": [],
   "source": [
    "# Joining the tables\n",
    "both_years_df = pd.merge(df, voter_2012, on='voter_reg_num')\n",
    "both_years_df['2016_house_num'] = both_years_df.apply(house_num_finder, axis=1)"
   ]
  },
  {
   "cell_type": "code",
   "execution_count": 1025,
   "metadata": {},
   "outputs": [],
   "source": [
    "# Removing people who moved homes between 2012 and 2016\n",
    "both_years_df = both_years_df[(both_years_df['2012_house_num'] == both_years_df['2016_house_num']) \n",
    "                   & (both_years_df['voter_status_desc'] == 'ACTIVE')]"
   ]
  },
  {
   "cell_type": "code",
   "execution_count": 1026,
   "metadata": {
    "collapsed": true
   },
   "outputs": [],
   "source": [
    "def changed_polling_location (df):\n",
    "    \n",
    "    \"\"\"Indicates whether someone was moved to a different\n",
    "    polling place between 2012 general election and 2016 general election.\"\"\"\n",
    "    \n",
    "    if str(df['2016_pct_assignment_abbrv']).strip() != str(df['2012_pct_assignment_abbrv']).strip():\n",
    "        return 1\n",
    "    else:\n",
    "        return 0"
   ]
  },
  {
   "cell_type": "code",
   "execution_count": 1027,
   "metadata": {},
   "outputs": [],
   "source": [
    "# Running the function to see whose polling location changed\n",
    "both_years_df['changed_precincts'] = both_years_df.apply(changed_polling_location, axis=1)"
   ]
  },
  {
   "cell_type": "code",
   "execution_count": 1028,
   "metadata": {
    "scrolled": true
   },
   "outputs": [
    {
     "name": "stdout",
     "output_type": "stream",
     "text": [
      "Percent of voters whose polling location changed between 2012 and 2016: 0.109%\n"
     ]
    }
   ],
   "source": [
    "mean = both_years_df['changed_precincts'].mean()\n",
    "print ('Percent of voters whose polling location changed between 2012 and 2016: ' + '{:.3f}'.format(mean*100) + '%')"
   ]
  },
  {
   "cell_type": "markdown",
   "metadata": {},
   "source": [
    "### Still need to figure out:\n",
    " - This works above, but I need to figure out how to run it on the entire dataset. Hoping to use pandas rather than dask but we'll see  "
   ]
  },
  {
   "cell_type": "markdown",
   "metadata": {},
   "source": [
    "## New approach for distance calculation"
   ]
  },
  {
   "cell_type": "markdown",
   "metadata": {},
   "source": [
    "_Idea_:\n",
    " - 1) Get a list of every voter ID who was assigned to a different polling place (excluding people who moved) \n",
    " - 2) Find the _K_ nearest neighbors to that person whose polling place was moved, via Lat/Long points, and for each of them, determine whether their polling place was also moved. There should be a max threshold - e.g., if the closest neighbor is 8 miles away, it doesn't hold\n",
    " - 3) From there, maybe we compare the person whose location was changed to the closest person whose location was not changed, or maybe we compare the person to the X closest people whose weren't changed      "
   ]
  }
 ],
 "metadata": {
  "kernelspec": {
   "display_name": "Python 3",
   "language": "python",
   "name": "python3"
  },
  "language_info": {
   "codemirror_mode": {
    "name": "ipython",
    "version": 3
   },
   "file_extension": ".py",
   "mimetype": "text/x-python",
   "name": "python",
   "nbconvert_exporter": "python",
   "pygments_lexer": "ipython3",
   "version": "3.6.1"
  },
  "toc": {
   "base_numbering": 1,
   "nav_menu": {},
   "number_sections": false,
   "sideBar": true,
   "skip_h1_title": false,
   "title_cell": "Table of Contents",
   "title_sidebar": "Contents",
   "toc_cell": true,
   "toc_position": {},
   "toc_section_display": true,
   "toc_window_display": false
  }
 },
 "nbformat": 4,
 "nbformat_minor": 2
}
